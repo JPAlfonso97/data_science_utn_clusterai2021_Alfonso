{
  "nbformat": 4,
  "nbformat_minor": 0,
  "metadata": {
    "colab": {
      "name": "clusterai_Alfonso-Alvarez_tpcompleto.ipynb",
      "provenance": [],
      "collapsed_sections": [],
      "toc_visible": true
    },
    "kernelspec": {
      "name": "python3",
      "display_name": "Python 3"
    },
    "language_info": {
      "name": "python"
    }
  },
  "cells": [
    {
      "cell_type": "markdown",
      "metadata": {
        "id": "jmVZrbFZa4mJ"
      },
      "source": [
        "#Trabajo Práctico Clustear AI 2021 - Grupo 14\n"
      ]
    },
    {
      "cell_type": "markdown",
      "metadata": {
        "id": "zHhzcs84b4Zt"
      },
      "source": [
        "##Imports\n"
      ]
    },
    {
      "cell_type": "code",
      "metadata": {
        "id": "yHIz4HpEhabD"
      },
      "source": [
        "# importamos las librerías necesarias para trabajar.\n",
        "import numpy as np\n",
        "import pandas as pd\n",
        "import matplotlib.pyplot as plt\n",
        "import seaborn as sns\n",
        "\n",
        "# Model\n",
        "from sklearn import preprocessing\n",
        "from sklearn import svm\n",
        "from sklearn.svm import SVC\n",
        "from sklearn.model_selection import train_test_split\n",
        "from sklearn.metrics import accuracy_score\n",
        "from sklearn.model_selection import cross_val_score\n",
        "from sklearn import metrics\n",
        "from sklearn.model_selection import RandomizedSearchCV\n",
        "from sklearn.model_selection import GridSearchCV\n",
        "from sklearn.neighbors import KNeighborsClassifier\n",
        "from sklearn.linear_model import LogisticRegression\n",
        "from sklearn.metrics import average_precision_score\n",
        "from sklearn.preprocessing import MinMaxScaler\n",
        "from sklearn.ensemble import RandomForestClassifier\n",
        "import warnings; warnings.filterwarnings('ignore')\n"
      ],
      "execution_count": null,
      "outputs": []
    },
    {
      "cell_type": "code",
      "metadata": {
        "id": "FAf9IqJapbki",
        "colab": {
          "base_uri": "https://localhost:8080/"
        },
        "outputId": "9f30ef92-62ce-4740-b374-7ff773ab6887"
      },
      "source": [
        "from google.colab import drive\n",
        "drive.mount('/content/drive')"
      ],
      "execution_count": null,
      "outputs": [
        {
          "output_type": "stream",
          "name": "stdout",
          "text": [
            "Mounted at /content/drive\n"
          ]
        }
      ]
    },
    {
      "cell_type": "code",
      "metadata": {
        "id": "JimyLGxthlGG"
      },
      "source": [
        "# importamos el dataset para el trabajo\n",
        "mn = pd.read_csv(r'/content/drive/MyDrive/UTN J/Ciencia de datos/TP Final/monumentos.csv', delimiter=';')"
      ],
      "execution_count": null,
      "outputs": []
    },
    {
      "cell_type": "markdown",
      "metadata": {
        "id": "42cCXXejcCnD"
      },
      "source": [
        "##Análisis preliminar"
      ]
    },
    {
      "cell_type": "code",
      "metadata": {
        "id": "uQmOdqF27j4I"
      },
      "source": [
        "#Realizamos una visualización previa de la composición dataset"
      ],
      "execution_count": null,
      "outputs": []
    },
    {
      "cell_type": "code",
      "metadata": {
        "colab": {
          "base_uri": "https://localhost:8080/",
          "height": 348
        },
        "id": "ZS4RVP_bhqJ9",
        "outputId": "75e31b15-0fdb-4cf7-b2e6-ea9e94bf43a6"
      },
      "source": [
        "mn.head()"
      ],
      "execution_count": null,
      "outputs": [
        {
          "output_type": "execute_result",
          "data": {
            "text/html": [
              "<div>\n",
              "<style scoped>\n",
              "    .dataframe tbody tr th:only-of-type {\n",
              "        vertical-align: middle;\n",
              "    }\n",
              "\n",
              "    .dataframe tbody tr th {\n",
              "        vertical-align: top;\n",
              "    }\n",
              "\n",
              "    .dataframe thead th {\n",
              "        text-align: right;\n",
              "    }\n",
              "</style>\n",
              "<table border=\"1\" class=\"dataframe\">\n",
              "  <thead>\n",
              "    <tr style=\"text-align: right;\">\n",
              "      <th></th>\n",
              "      <th>ID</th>\n",
              "      <th>OBJETO_OBRA</th>\n",
              "      <th>CANTIDAD_OBJETOS</th>\n",
              "      <th>MATERIAL</th>\n",
              "      <th>DENOMINACION_SIMBOLIZA</th>\n",
              "      <th>AUTORES</th>\n",
              "      <th>UBICACION</th>\n",
              "      <th>OBSERVACIONES</th>\n",
              "      <th>DIRECCION_NORMALIZADA</th>\n",
              "      <th>CALLE</th>\n",
              "      <th>ALTURA</th>\n",
              "      <th>BARRIO</th>\n",
              "      <th>COMUNA</th>\n",
              "      <th>CODIGA_POSTAL</th>\n",
              "      <th>CODIGO_POSTAL_ARGENTINO</th>\n",
              "      <th>LATITUD</th>\n",
              "      <th>LONGITUD</th>\n",
              "    </tr>\n",
              "  </thead>\n",
              "  <tbody>\n",
              "    <tr>\n",
              "      <th>0</th>\n",
              "      <td>11</td>\n",
              "      <td>ESTATUA</td>\n",
              "      <td>1</td>\n",
              "      <td>MARMOL DE CORDOBA</td>\n",
              "      <td>INTERIORES</td>\n",
              "      <td>ALVAREZ LOMBA, A.</td>\n",
              "      <td>NaN</td>\n",
              "      <td>NaN</td>\n",
              "      <td>BOEDO AV. 883</td>\n",
              "      <td>BOEDO AV.</td>\n",
              "      <td>883.0</td>\n",
              "      <td>BOEDO</td>\n",
              "      <td>COMUNA 5</td>\n",
              "      <td>1218.0</td>\n",
              "      <td>C1218AAE</td>\n",
              "      <td>-34.623713</td>\n",
              "      <td>-58.416328</td>\n",
              "    </tr>\n",
              "    <tr>\n",
              "      <th>1</th>\n",
              "      <td>14</td>\n",
              "      <td>ESTATUA</td>\n",
              "      <td>1</td>\n",
              "      <td>MARMOL</td>\n",
              "      <td>EL TRABAJO</td>\n",
              "      <td>ANDINA, EMILIO</td>\n",
              "      <td>NaN</td>\n",
              "      <td>NaN</td>\n",
              "      <td>CASEROS AV. Y MONTEAGUDO</td>\n",
              "      <td>CASEROS AV.</td>\n",
              "      <td>NaN</td>\n",
              "      <td>PARQUE PATRICIOS</td>\n",
              "      <td>COMUNA 4</td>\n",
              "      <td>NaN</td>\n",
              "      <td>NaN</td>\n",
              "      <td>-34.637117</td>\n",
              "      <td>-58.405611</td>\n",
              "    </tr>\n",
              "    <tr>\n",
              "      <th>2</th>\n",
              "      <td>15</td>\n",
              "      <td>ESTATUA</td>\n",
              "      <td>1</td>\n",
              "      <td>BRONCE</td>\n",
              "      <td>?USTA (FUENTE INCAICA)</td>\n",
              "      <td>ANDINA, EMILIO</td>\n",
              "      <td>NaN</td>\n",
              "      <td>NaN</td>\n",
              "      <td>PERON, EVA AV. 1410</td>\n",
              "      <td>PERON, EVA AV.</td>\n",
              "      <td>1410.0</td>\n",
              "      <td>PARQUE CHACABUCO</td>\n",
              "      <td>COMUNA 7</td>\n",
              "      <td>1406.0</td>\n",
              "      <td>C1406HMP</td>\n",
              "      <td>-34.632903</td>\n",
              "      <td>-58.444763</td>\n",
              "    </tr>\n",
              "    <tr>\n",
              "      <th>3</th>\n",
              "      <td>17</td>\n",
              "      <td>MASTIL</td>\n",
              "      <td>1</td>\n",
              "      <td>GRANITO Y BRONCE</td>\n",
              "      <td>HOMENAJE A LA BANDERA</td>\n",
              "      <td>PERLOTI, LUIS</td>\n",
              "      <td>PLAZA VELEZ SARSFIELD</td>\n",
              "      <td>PLAZA VELEZ SARSFIELD</td>\n",
              "      <td>AVELLANEDA AV. 3800</td>\n",
              "      <td>AVELLANEDA AV.</td>\n",
              "      <td>3800.0</td>\n",
              "      <td>FLORESTA</td>\n",
              "      <td>COMUNA 10</td>\n",
              "      <td>1407.0</td>\n",
              "      <td>C1407EJR</td>\n",
              "      <td>-34.629203</td>\n",
              "      <td>-58.482175</td>\n",
              "    </tr>\n",
              "    <tr>\n",
              "      <th>4</th>\n",
              "      <td>18</td>\n",
              "      <td>MONUMENTO</td>\n",
              "      <td>1</td>\n",
              "      <td>BRONCE Y MAMPOSTERIA</td>\n",
              "      <td>CEFERINO NAMUNCURA</td>\n",
              "      <td>ARMAS, ARMANDO</td>\n",
              "      <td>PZTA CEFERINO NAMUNCURA</td>\n",
              "      <td>PZTA CEFERINO NAMUNCURA</td>\n",
              "      <td>ARREGUI AV. 6400</td>\n",
              "      <td>ARREGUI AV.</td>\n",
              "      <td>6400.0</td>\n",
              "      <td>VERSALLES</td>\n",
              "      <td>COMUNA 10</td>\n",
              "      <td>1408.0</td>\n",
              "      <td>C1408AVV</td>\n",
              "      <td>-34.628472</td>\n",
              "      <td>-58.524018</td>\n",
              "    </tr>\n",
              "  </tbody>\n",
              "</table>\n",
              "</div>"
            ],
            "text/plain": [
              "   ID OBJETO_OBRA  ...    LATITUD   LONGITUD\n",
              "0  11     ESTATUA  ... -34.623713 -58.416328\n",
              "1  14     ESTATUA  ... -34.637117 -58.405611\n",
              "2  15     ESTATUA  ... -34.632903 -58.444763\n",
              "3  17      MASTIL  ... -34.629203 -58.482175\n",
              "4  18   MONUMENTO  ... -34.628472 -58.524018\n",
              "\n",
              "[5 rows x 17 columns]"
            ]
          },
          "metadata": {},
          "execution_count": 25
        }
      ]
    },
    {
      "cell_type": "code",
      "metadata": {
        "colab": {
          "base_uri": "https://localhost:8080/",
          "height": 300
        },
        "id": "-MGHxEtTPA-M",
        "outputId": "2400f10d-1414-4180-82bd-110533c1fe94"
      },
      "source": [
        "mn.describe()"
      ],
      "execution_count": null,
      "outputs": [
        {
          "output_type": "execute_result",
          "data": {
            "text/html": [
              "<div>\n",
              "<style scoped>\n",
              "    .dataframe tbody tr th:only-of-type {\n",
              "        vertical-align: middle;\n",
              "    }\n",
              "\n",
              "    .dataframe tbody tr th {\n",
              "        vertical-align: top;\n",
              "    }\n",
              "\n",
              "    .dataframe thead th {\n",
              "        text-align: right;\n",
              "    }\n",
              "</style>\n",
              "<table border=\"1\" class=\"dataframe\">\n",
              "  <thead>\n",
              "    <tr style=\"text-align: right;\">\n",
              "      <th></th>\n",
              "      <th>ID</th>\n",
              "      <th>CANTIDAD_OBJETOS</th>\n",
              "      <th>ALTURA</th>\n",
              "      <th>CODIGA_POSTAL</th>\n",
              "      <th>LATITUD</th>\n",
              "      <th>LONGITUD</th>\n",
              "    </tr>\n",
              "  </thead>\n",
              "  <tbody>\n",
              "    <tr>\n",
              "      <th>count</th>\n",
              "      <td>2233.000000</td>\n",
              "      <td>2233.000000</td>\n",
              "      <td>1513.000000</td>\n",
              "      <td>1504.000000</td>\n",
              "      <td>2103.000000</td>\n",
              "      <td>2103.000000</td>\n",
              "    </tr>\n",
              "    <tr>\n",
              "      <th>mean</th>\n",
              "      <td>1117.000000</td>\n",
              "      <td>1.090909</td>\n",
              "      <td>2611.686054</td>\n",
              "      <td>1310.318484</td>\n",
              "      <td>-34.601172</td>\n",
              "      <td>-58.422030</td>\n",
              "    </tr>\n",
              "    <tr>\n",
              "      <th>std</th>\n",
              "      <td>644.755897</td>\n",
              "      <td>0.929539</td>\n",
              "      <td>2388.149358</td>\n",
              "      <td>163.142364</td>\n",
              "      <td>0.030049</td>\n",
              "      <td>0.039867</td>\n",
              "    </tr>\n",
              "    <tr>\n",
              "      <th>min</th>\n",
              "      <td>1.000000</td>\n",
              "      <td>1.000000</td>\n",
              "      <td>1.000000</td>\n",
              "      <td>1001.000000</td>\n",
              "      <td>-34.698431</td>\n",
              "      <td>-58.528996</td>\n",
              "    </tr>\n",
              "    <tr>\n",
              "      <th>25%</th>\n",
              "      <td>559.000000</td>\n",
              "      <td>1.000000</td>\n",
              "      <td>1145.000000</td>\n",
              "      <td>1113.750000</td>\n",
              "      <td>-34.619043</td>\n",
              "      <td>-58.449277</td>\n",
              "    </tr>\n",
              "    <tr>\n",
              "      <th>50%</th>\n",
              "      <td>1117.000000</td>\n",
              "      <td>1.000000</td>\n",
              "      <td>2300.000000</td>\n",
              "      <td>1425.000000</td>\n",
              "      <td>-34.597555</td>\n",
              "      <td>-58.411933</td>\n",
              "    </tr>\n",
              "    <tr>\n",
              "      <th>75%</th>\n",
              "      <td>1675.000000</td>\n",
              "      <td>1.000000</td>\n",
              "      <td>3101.000000</td>\n",
              "      <td>1425.000000</td>\n",
              "      <td>-34.576826</td>\n",
              "      <td>-58.391372</td>\n",
              "    </tr>\n",
              "    <tr>\n",
              "      <th>max</th>\n",
              "      <td>2233.000000</td>\n",
              "      <td>34.000000</td>\n",
              "      <td>16802.000000</td>\n",
              "      <td>1440.000000</td>\n",
              "      <td>-34.536107</td>\n",
              "      <td>-58.353460</td>\n",
              "    </tr>\n",
              "  </tbody>\n",
              "</table>\n",
              "</div>"
            ],
            "text/plain": [
              "                ID  CANTIDAD_OBJETOS  ...      LATITUD     LONGITUD\n",
              "count  2233.000000       2233.000000  ...  2103.000000  2103.000000\n",
              "mean   1117.000000          1.090909  ...   -34.601172   -58.422030\n",
              "std     644.755897          0.929539  ...     0.030049     0.039867\n",
              "min       1.000000          1.000000  ...   -34.698431   -58.528996\n",
              "25%     559.000000          1.000000  ...   -34.619043   -58.449277\n",
              "50%    1117.000000          1.000000  ...   -34.597555   -58.411933\n",
              "75%    1675.000000          1.000000  ...   -34.576826   -58.391372\n",
              "max    2233.000000         34.000000  ...   -34.536107   -58.353460\n",
              "\n",
              "[8 rows x 6 columns]"
            ]
          },
          "metadata": {},
          "execution_count": 26
        }
      ]
    },
    {
      "cell_type": "code",
      "metadata": {
        "id": "BstChOOO7626",
        "colab": {
          "base_uri": "https://localhost:8080/"
        },
        "outputId": "235bd6ea-0331-4506-9455-6f31bb896efa"
      },
      "source": [
        "mn.info()"
      ],
      "execution_count": null,
      "outputs": [
        {
          "output_type": "stream",
          "name": "stdout",
          "text": [
            "<class 'pandas.core.frame.DataFrame'>\n",
            "RangeIndex: 2233 entries, 0 to 2232\n",
            "Data columns (total 17 columns):\n",
            " #   Column                   Non-Null Count  Dtype  \n",
            "---  ------                   --------------  -----  \n",
            " 0   ID                       2233 non-null   int64  \n",
            " 1   OBJETO_OBRA              2233 non-null   object \n",
            " 2   CANTIDAD_OBJETOS         2233 non-null   int64  \n",
            " 3   MATERIAL                 2221 non-null   object \n",
            " 4   DENOMINACION_SIMBOLIZA   2232 non-null   object \n",
            " 5   AUTORES                  1320 non-null   object \n",
            " 6   UBICACION                2216 non-null   object \n",
            " 7   OBSERVACIONES            2216 non-null   object \n",
            " 8   DIRECCION_NORMALIZADA    2114 non-null   object \n",
            " 9   CALLE                    2114 non-null   object \n",
            " 10  ALTURA                   1513 non-null   float64\n",
            " 11  BARRIO                   1921 non-null   object \n",
            " 12  COMUNA                   2113 non-null   object \n",
            " 13  CODIGA_POSTAL            1504 non-null   float64\n",
            " 14  CODIGO_POSTAL_ARGENTINO  1504 non-null   object \n",
            " 15  LATITUD                  2103 non-null   float64\n",
            " 16  LONGITUD                 2103 non-null   float64\n",
            "dtypes: float64(4), int64(2), object(11)\n",
            "memory usage: 296.7+ KB\n"
          ]
        }
      ]
    },
    {
      "cell_type": "code",
      "metadata": {
        "id": "aBD4w_JGjGN8",
        "colab": {
          "base_uri": "https://localhost:8080/"
        },
        "outputId": "09666749-4758-46d6-ae8c-553b1052e88e"
      },
      "source": [
        "##Vemos cuantas filas y columnas tiene nuestro dataset\n",
        "mn.shape\n"
      ],
      "execution_count": null,
      "outputs": [
        {
          "output_type": "execute_result",
          "data": {
            "text/plain": [
              "(2233, 17)"
            ]
          },
          "metadata": {},
          "execution_count": 28
        }
      ]
    },
    {
      "cell_type": "code",
      "metadata": {
        "colab": {
          "base_uri": "https://localhost:8080/"
        },
        "id": "sVoc7isJhXE8",
        "outputId": "53f2ebbb-a48e-430e-c0bd-b4c681ebdafa"
      },
      "source": [
        "#Buscamos los valores nulos dentro de nuestro dataset\n",
        "cant_NaN = mn.isnull().sum()\n",
        "print(cant_NaN,'\\r\\n')"
      ],
      "execution_count": null,
      "outputs": [
        {
          "output_type": "stream",
          "name": "stdout",
          "text": [
            "ID                           0\n",
            "OBJETO_OBRA                  0\n",
            "CANTIDAD_OBJETOS             0\n",
            "MATERIAL                    12\n",
            "DENOMINACION_SIMBOLIZA       1\n",
            "AUTORES                    913\n",
            "UBICACION                   17\n",
            "OBSERVACIONES               17\n",
            "DIRECCION_NORMALIZADA      119\n",
            "CALLE                      119\n",
            "ALTURA                     720\n",
            "BARRIO                     312\n",
            "COMUNA                     120\n",
            "CODIGA_POSTAL              729\n",
            "CODIGO_POSTAL_ARGENTINO    729\n",
            "LATITUD                    130\n",
            "LONGITUD                   130\n",
            "dtype: int64 \r\n",
            "\n"
          ]
        }
      ]
    },
    {
      "cell_type": "code",
      "metadata": {
        "colab": {
          "base_uri": "https://localhost:8080/"
        },
        "id": "dUD6VZoFkmS7",
        "outputId": "19ee8506-4e12-46ea-9543-b73f65c07d40"
      },
      "source": [
        "#Ordenamos de manera descendente los datos nulos\n",
        "total = mn.isnull().sum().sort_values(ascending=False)\n",
        "print (total)"
      ],
      "execution_count": null,
      "outputs": [
        {
          "output_type": "stream",
          "name": "stdout",
          "text": [
            "AUTORES                    913\n",
            "CODIGO_POSTAL_ARGENTINO    729\n",
            "CODIGA_POSTAL              729\n",
            "ALTURA                     720\n",
            "BARRIO                     312\n",
            "LONGITUD                   130\n",
            "LATITUD                    130\n",
            "COMUNA                     120\n",
            "DIRECCION_NORMALIZADA      119\n",
            "CALLE                      119\n",
            "OBSERVACIONES               17\n",
            "UBICACION                   17\n",
            "MATERIAL                    12\n",
            "DENOMINACION_SIMBOLIZA       1\n",
            "CANTIDAD_OBJETOS             0\n",
            "OBJETO_OBRA                  0\n",
            "ID                           0\n",
            "dtype: int64\n"
          ]
        }
      ]
    },
    {
      "cell_type": "code",
      "metadata": {
        "colab": {
          "base_uri": "https://localhost:8080/"
        },
        "id": "0yn70uzwnoYq",
        "outputId": "bbfc4434-c3ad-478f-9352-320f43dc1a76"
      },
      "source": [
        "#Visualizamos el porcentaje \n",
        "percent = [(mn.isnull().sum()/mn.isnull().count()).sort_values(ascending=False)]\n",
        "print(percent)"
      ],
      "execution_count": null,
      "outputs": [
        {
          "output_type": "stream",
          "name": "stdout",
          "text": [
            "[AUTORES                    0.408867\n",
            "CODIGO_POSTAL_ARGENTINO    0.326467\n",
            "CODIGA_POSTAL              0.326467\n",
            "ALTURA                     0.322436\n",
            "BARRIO                     0.139722\n",
            "LONGITUD                   0.058218\n",
            "LATITUD                    0.058218\n",
            "COMUNA                     0.053739\n",
            "DIRECCION_NORMALIZADA      0.053292\n",
            "CALLE                      0.053292\n",
            "OBSERVACIONES              0.007613\n",
            "UBICACION                  0.007613\n",
            "MATERIAL                   0.005374\n",
            "DENOMINACION_SIMBOLIZA     0.000448\n",
            "CANTIDAD_OBJETOS           0.000000\n",
            "OBJETO_OBRA                0.000000\n",
            "ID                         0.000000\n",
            "dtype: float64]\n"
          ]
        }
      ]
    },
    {
      "cell_type": "markdown",
      "metadata": {
        "id": "zIENFdL5cLxv"
      },
      "source": [
        "##Limpieza\n"
      ]
    },
    {
      "cell_type": "code",
      "metadata": {
        "id": "geK6AFXToSTr"
      },
      "source": [
        "#Definimos quitar las columnas \"AUTORES\" por ser la de mayor porcentaje en NaNs.\n",
        "mn.drop(['AUTORES'], axis = 'columns', inplace=True)"
      ],
      "execution_count": null,
      "outputs": []
    },
    {
      "cell_type": "code",
      "metadata": {
        "id": "VaXeHm9lqFyV"
      },
      "source": [
        "#Definimos quitar las columnas \"OBSERVACIONES\", \"DIRECCION_NORMALIZADA\", \"ID\", \"UBICACION\", \"DENOMINACION_SIMBOLIZA\",\n",
        "#\"OBJETO_OBRA\" y \"CODIGO_POSTAL_ARGENTINO\"\n",
        "#porque quedan fuera de nuestro criterio de analisis. \n",
        "mn.drop(['ID','OBSERVACIONES','DIRECCION_NORMALIZADA', 'CODIGO_POSTAL_ARGENTINO', 'OBJETO_OBRA','UBICACION','DENOMINACION_SIMBOLIZA' ],\\\n",
        "        axis = 'columns', inplace=True)"
      ],
      "execution_count": null,
      "outputs": []
    },
    {
      "cell_type": "code",
      "metadata": {
        "id": "nCaJyd5crHMx",
        "colab": {
          "base_uri": "https://localhost:8080/",
          "height": 293
        },
        "outputId": "c6f84af5-19a9-47dd-dfc8-867949dd009e"
      },
      "source": [
        "#Revisamos como queda el dataset\n",
        "mn.head()"
      ],
      "execution_count": null,
      "outputs": [
        {
          "output_type": "execute_result",
          "data": {
            "text/html": [
              "<div>\n",
              "<style scoped>\n",
              "    .dataframe tbody tr th:only-of-type {\n",
              "        vertical-align: middle;\n",
              "    }\n",
              "\n",
              "    .dataframe tbody tr th {\n",
              "        vertical-align: top;\n",
              "    }\n",
              "\n",
              "    .dataframe thead th {\n",
              "        text-align: right;\n",
              "    }\n",
              "</style>\n",
              "<table border=\"1\" class=\"dataframe\">\n",
              "  <thead>\n",
              "    <tr style=\"text-align: right;\">\n",
              "      <th></th>\n",
              "      <th>CANTIDAD_OBJETOS</th>\n",
              "      <th>MATERIAL</th>\n",
              "      <th>CALLE</th>\n",
              "      <th>ALTURA</th>\n",
              "      <th>BARRIO</th>\n",
              "      <th>COMUNA</th>\n",
              "      <th>CODIGA_POSTAL</th>\n",
              "      <th>LATITUD</th>\n",
              "      <th>LONGITUD</th>\n",
              "    </tr>\n",
              "  </thead>\n",
              "  <tbody>\n",
              "    <tr>\n",
              "      <th>0</th>\n",
              "      <td>1</td>\n",
              "      <td>MARMOL DE CORDOBA</td>\n",
              "      <td>BOEDO AV.</td>\n",
              "      <td>883.0</td>\n",
              "      <td>BOEDO</td>\n",
              "      <td>COMUNA 5</td>\n",
              "      <td>1218.0</td>\n",
              "      <td>-34.623713</td>\n",
              "      <td>-58.416328</td>\n",
              "    </tr>\n",
              "    <tr>\n",
              "      <th>1</th>\n",
              "      <td>1</td>\n",
              "      <td>MARMOL</td>\n",
              "      <td>CASEROS AV.</td>\n",
              "      <td>NaN</td>\n",
              "      <td>PARQUE PATRICIOS</td>\n",
              "      <td>COMUNA 4</td>\n",
              "      <td>NaN</td>\n",
              "      <td>-34.637117</td>\n",
              "      <td>-58.405611</td>\n",
              "    </tr>\n",
              "    <tr>\n",
              "      <th>2</th>\n",
              "      <td>1</td>\n",
              "      <td>BRONCE</td>\n",
              "      <td>PERON, EVA AV.</td>\n",
              "      <td>1410.0</td>\n",
              "      <td>PARQUE CHACABUCO</td>\n",
              "      <td>COMUNA 7</td>\n",
              "      <td>1406.0</td>\n",
              "      <td>-34.632903</td>\n",
              "      <td>-58.444763</td>\n",
              "    </tr>\n",
              "    <tr>\n",
              "      <th>3</th>\n",
              "      <td>1</td>\n",
              "      <td>GRANITO Y BRONCE</td>\n",
              "      <td>AVELLANEDA AV.</td>\n",
              "      <td>3800.0</td>\n",
              "      <td>FLORESTA</td>\n",
              "      <td>COMUNA 10</td>\n",
              "      <td>1407.0</td>\n",
              "      <td>-34.629203</td>\n",
              "      <td>-58.482175</td>\n",
              "    </tr>\n",
              "    <tr>\n",
              "      <th>4</th>\n",
              "      <td>1</td>\n",
              "      <td>BRONCE Y MAMPOSTERIA</td>\n",
              "      <td>ARREGUI AV.</td>\n",
              "      <td>6400.0</td>\n",
              "      <td>VERSALLES</td>\n",
              "      <td>COMUNA 10</td>\n",
              "      <td>1408.0</td>\n",
              "      <td>-34.628472</td>\n",
              "      <td>-58.524018</td>\n",
              "    </tr>\n",
              "  </tbody>\n",
              "</table>\n",
              "</div>"
            ],
            "text/plain": [
              "   CANTIDAD_OBJETOS              MATERIAL  ...    LATITUD   LONGITUD\n",
              "0                 1     MARMOL DE CORDOBA  ... -34.623713 -58.416328\n",
              "1                 1                MARMOL  ... -34.637117 -58.405611\n",
              "2                 1                BRONCE  ... -34.632903 -58.444763\n",
              "3                 1      GRANITO Y BRONCE  ... -34.629203 -58.482175\n",
              "4                 1  BRONCE Y MAMPOSTERIA  ... -34.628472 -58.524018\n",
              "\n",
              "[5 rows x 9 columns]"
            ]
          },
          "metadata": {},
          "execution_count": 34
        }
      ]
    },
    {
      "cell_type": "code",
      "metadata": {
        "id": "807IS6Z3rWlx",
        "colab": {
          "base_uri": "https://localhost:8080/"
        },
        "outputId": "9bbf39b0-9f10-47ed-caaa-3193a5ed3dd2"
      },
      "source": [
        "##Revisamos nuevamente los valores nulos que nos quedan\n",
        "total1 = mn.isnull().sum().sort_values(ascending=False)\n",
        "print (total1)"
      ],
      "execution_count": null,
      "outputs": [
        {
          "output_type": "stream",
          "name": "stdout",
          "text": [
            "CODIGA_POSTAL       729\n",
            "ALTURA              720\n",
            "BARRIO              312\n",
            "LONGITUD            130\n",
            "LATITUD             130\n",
            "COMUNA              120\n",
            "CALLE               119\n",
            "MATERIAL             12\n",
            "CANTIDAD_OBJETOS      0\n",
            "dtype: int64\n"
          ]
        }
      ]
    },
    {
      "cell_type": "code",
      "metadata": {
        "id": "zRRizY1DBb7m"
      },
      "source": [
        "## Eliminamos las filas que tienen NaN en Comuna\n",
        "mn.dropna(subset = [\"COMUNA\"], inplace=True)"
      ],
      "execution_count": null,
      "outputs": []
    },
    {
      "cell_type": "code",
      "metadata": {
        "id": "BpVjqZXc622b"
      },
      "source": [
        "## Ajustamos un valor con variable erronea\n",
        "mn['COMUNA'] = mn['COMUNA'].str.replace('COMUNA6','COMUNA 6')"
      ],
      "execution_count": null,
      "outputs": []
    },
    {
      "cell_type": "code",
      "metadata": {
        "colab": {
          "base_uri": "https://localhost:8080/"
        },
        "id": "VtXh_5NAitEl",
        "outputId": "bae88bf8-b0a4-4f24-95e8-94a80f0f4f7c"
      },
      "source": [
        "# Verificamos como quedo el dataset\n",
        "print(f'Nos quedamos con un dataset de {mn.shape[0]} filas x{mn.shape[1]} columnas')"
      ],
      "execution_count": null,
      "outputs": [
        {
          "output_type": "stream",
          "name": "stdout",
          "text": [
            "Nos quedamos con un dataset de 2113 filas x9 columnas\n"
          ]
        }
      ]
    },
    {
      "cell_type": "markdown",
      "metadata": {
        "id": "7nVYeNEZCg0T"
      },
      "source": [
        "##Análisis exploratorio"
      ]
    },
    {
      "cell_type": "code",
      "metadata": {
        "id": "1xNJEWRYwnyA",
        "colab": {
          "base_uri": "https://localhost:8080/"
        },
        "outputId": "96111157-094a-458c-889b-dee355790467"
      },
      "source": [
        "##Vemos las cantidades de monumentos por comuna\n",
        "mn['COMUNA'].value_counts()"
      ],
      "execution_count": null,
      "outputs": [
        {
          "output_type": "execute_result",
          "data": {
            "text/plain": [
              "COMUNA 14    565\n",
              "COMUNA 1     413\n",
              "COMUNA 2     164\n",
              "COMUNA 4     160\n",
              "COMUNA 13    115\n",
              "COMUNA 15    115\n",
              "COMUNA 7     102\n",
              "COMUNA 3      90\n",
              "COMUNA 9      79\n",
              "COMUNA 8      70\n",
              "COMUNA 12     64\n",
              "COMUNA 6      59\n",
              "COMUNA 10     53\n",
              "COMUNA 11     47\n",
              "COMUNA 5      17\n",
              "Name: COMUNA, dtype: int64"
            ]
          },
          "metadata": {},
          "execution_count": 39
        }
      ]
    },
    {
      "cell_type": "code",
      "metadata": {
        "colab": {
          "base_uri": "https://localhost:8080/",
          "height": 357
        },
        "id": "6kQ5EeAOtSw8",
        "outputId": "e8373818-d781-439c-bcb2-7ff86c8bf11a"
      },
      "source": [
        "##Graficamos la cuenta de monumentos según comuna\n",
        "plt.figure(figsize=(30,10))\n",
        "ax=sns.countplot(x=mn.COMUNA, data=mn.COMUNA, palette='rocket', order= mn['COMUNA'].value_counts().index )\n",
        "plt.xlabel(\"Comuna\", size =20)\n",
        "plt.ylabel(\"Cantidad de monumentos\", size=20)\n",
        "plt.title (\"Monumentos por comuna\", size=30)\n",
        "plt\n",
        "sns.set({'figure.figsize':(20,10)})"
      ],
      "execution_count": null,
      "outputs": [
        {
          "output_type": "display_data",
          "data": {
            "image/png": "[encoded data removed]",
            "text/plain": [
              "<Figure size 2160x720 with 1 Axes>"
            ]
          },
          "metadata": {
            "needs_background": "light"
          }
        }
      ]
    },
    {
      "cell_type": "code",
      "metadata": {
        "id": "a3M7w25MCMnS",
        "colab": {
          "base_uri": "https://localhost:8080/"
        },
        "outputId": "7e73809e-d21d-4e14-ba01-adf4aea3a531"
      },
      "source": [
        "##Revisamos la cantidad de veces que se repiten los materiales en el data set\n",
        "mn_mat_count=mn.MATERIAL.value_counts()\n",
        "with pd.option_context('display.max_rows', None, 'display.max_columns', None):\n",
        "  print(mn_mat_count)"
      ],
      "execution_count": null,
      "outputs": [
        {
          "output_type": "stream",
          "name": "stdout",
          "text": [
            "BRONCE Y MAMPOSTERIA          611\n",
            "BRONCE                        412\n",
            "MARMOL                        259\n",
            "CEMENTO PATINADO              179\n",
            "MAMPOSTERIA                   105\n",
            "HIERRO FUNDIDO                 54\n",
            "HIERRO Y MAMPOSTERIA           42\n",
            "HIERRO                         41\n",
            "BRONCE Y GRANITO               40\n",
            "BRONCE Y MARMOL                27\n",
            "MAMPOSTERIA E HIERRO           27\n",
            "GRANITO                        27\n",
            "MARMOL Y MAMPOSTERIA           19\n",
            "PIEDRA                         18\n",
            "GRANITO Y BRONCE               16\n",
            "MAMPOSTERIA Y MAYOLICA         14\n",
            "BRONCE Y PIEDRA                12\n",
            "CERAMICA                       11\n",
            "ACERO INOXIDABLE               11\n",
            "ALUMINIO                        9\n",
            "ACRILICO                        9\n",
            "FIBROCEMENTO                    8\n",
            "CEMENTO                         6\n",
            "GRANITO Y MAMPOSTERIA           5\n",
            "FIBROCEMENTO Y MAMPOSTERIA      5\n",
            "MAMPOSTERIA Y BRONCE            5\n",
            "YESO                            5\n",
            "BRONCE Y HORMIGON               4\n",
            "CEMENTO BLANCO                  4\n",
            "MARMOL RECONSTITUIDO            4\n",
            "MAYOLICA Y MAMPOSTERIA          4\n",
            "PIEDRA RECONSTITUIDA            4\n",
            "HIERRO FORJADO                  3\n",
            "MARMOL Y PIEDRA                 3\n",
            "TERRACOTA                       3\n",
            "PIEDRA PARIS                    3\n",
            "HORMIGON ARMADO                 3\n",
            "GRANITO RECONSTITUIDO           3\n",
            "PIEDRA Y BRONCE                 3\n",
            "HIERRO Y GRANITO                3\n",
            "FIBRA POLIESTER                 3\n",
            "CERAMICA Y MAMPOSTERIA          2\n",
            "MAMPOSTERIA Y MARMOL            2\n",
            "VENECITA                        2\n",
            "PIEDRA Y MAMPOSTERIA            2\n",
            "MARMOL Y BRONCE                 2\n",
            "PINTURA AL OLEO                 2\n",
            "GRANITO E HIERRO                2\n",
            "MAYOLICAS                       2\n",
            "HORMIGON Y ACERO                2\n",
            "MARMOL Y GRANITO                2\n",
            "MARMOL ONIX                     2\n",
            "MAYOLICA                        2\n",
            "CEMENTO Y MAMPOSTERIA           2\n",
            "ANTIMONIO                       2\n",
            "HIERRO Y BRONCE                 1\n",
            "METALICA                        1\n",
            "CHAPA ANTICORADAL               1\n",
            "MARMOL Y HIERRO FORJADO         1\n",
            "MADERA                          1\n",
            "MATERIAL RECONSTITUIDO          1\n",
            "YESO POLICROMADO                1\n",
            "PIEDRA Y MARMOL                 1\n",
            "ACERO                           1\n",
            "MAMPOSTERIA Y LAJAS             1\n",
            "GRANITO Y CERAMICA              1\n",
            "CEMENTO PATINADO Y GRANITO      1\n",
            "GARNITO Y PIEDRA                1\n",
            "ACRILICO Y MAMPOSTERIA          1\n",
            "MARMOL Y HIERRO                 1\n",
            "MAMPOSTERIA Y GRANITO           1\n",
            "QUEBRACHO                       1\n",
            "AZULEJOS                        1\n",
            "SIMILPIEDRA Y MAMPOSTERIA       1\n",
            "HIERRO Y MARMOL                 1\n",
            "MAMPOSTERIA Y PIEDRA            1\n",
            "ALUMINIO TONALIZADO             1\n",
            "PIEDRA ARENISCA                 1\n",
            "ZINC                            1\n",
            "MAMPOSTERIA Y CERAMICA          1\n",
            "HIERRO Y HORMIGON               1\n",
            "BRONCE Y HIERRO                 1\n",
            "HORMIGON PATINADO               1\n",
            "COBRE                           1\n",
            "PIEDRA MAR DEL PLATA            1\n",
            "MAMPOSTERIA Y HIERRO            1\n",
            "MARMOL DE CARRARA               1\n",
            "HORMIGON                        1\n",
            "BRONCE E HIERRO                 1\n",
            "PIEDRA LIMAY                    1\n",
            "MARMOL DE CORDOBA               1\n",
            "MARMOL E HIERRO                 1\n",
            "CEDRO                           1\n",
            "PIEDRA E HIERRO                 1\n",
            "GRANITO GRIS                    1\n",
            "MADERA E HIERRO                 1\n",
            "BRONCE Y MADERA                 1\n",
            "PIEDRA TOBA                     1\n",
            "RESINA POLIESTER                1\n",
            "FIBRA POLIESTER Y MAMPOSTE      1\n",
            "LITOGRAFIA ENMARCADA            1\n",
            "ACERO Y GRANITO                 1\n",
            "HIERRO Y VIDRIO                 1\n",
            "BLINDEX Y MAMPOSTERIA           1\n",
            "Name: MATERIAL, dtype: int64\n"
          ]
        }
      ]
    },
    {
      "cell_type": "code",
      "metadata": {
        "id": "p26g-MzHE-PS",
        "colab": {
          "base_uri": "https://localhost:8080/"
        },
        "outputId": "dab94d63-d469-4642-f5d2-300e70374d37"
      },
      "source": [
        "#Cantidad de materiales\n",
        "mn.mat = len(mn['MATERIAL'].unique()) \n",
        "print(f'En total hay {mn.mat} tipos de valores en \"MATERIAL\"\\r\\n')\n",
        "print(\"\\n\", mn['MATERIAL'].unique())"
      ],
      "execution_count": null,
      "outputs": [
        {
          "output_type": "stream",
          "name": "stdout",
          "text": [
            "En total hay 105 tipos de valores en \"MATERIAL\"\r\n",
            "\n",
            "\n",
            " ['MARMOL DE CORDOBA' 'MARMOL' 'BRONCE' 'GRANITO Y BRONCE'\n",
            " 'BRONCE Y MAMPOSTERIA' 'MAMPOSTERIA' 'BRONCE Y GRANITO'\n",
            " 'PIEDRA MAR DEL PLATA' 'BRONCE Y MARMOL' 'CEMENTO PATINADO'\n",
            " 'GRANITO RECONSTITUIDO' 'MAMPOSTERIA E HIERRO' 'MAMPOSTERIA Y BRONCE'\n",
            " 'HIERRO' 'HIERRO Y BRONCE' 'FIBROCEMENTO Y MAMPOSTERIA' 'GRANITO'\n",
            " 'BRONCE Y PIEDRA' nan 'MARMOL Y MAMPOSTERIA' 'PIEDRA' 'CEMENTO BLANCO'\n",
            " 'QUEBRACHO' 'HORMIGON' 'CERAMICA Y MAMPOSTERIA' 'PIEDRA TOBA'\n",
            " 'MAMPOSTERIA Y MAYOLICA' 'HIERRO Y MAMPOSTERIA' 'HIERRO FORJADO'\n",
            " 'MAMPOSTERIA Y LAJAS' 'ANTIMONIO' 'ALUMINIO' 'ACERO INOXIDABLE'\n",
            " 'HIERRO Y VIDRIO' 'FIBROCEMENTO' 'GRANITO E HIERRO'\n",
            " 'ACRILICO Y MAMPOSTERIA' 'CEMENTO' 'TERRACOTA' 'GRANITO Y CERAMICA'\n",
            " 'MARMOL ONIX' 'HIERRO FUNDIDO' 'MARMOL Y BRONCE' 'PIEDRA PARIS'\n",
            " 'BRONCE Y HORMIGON' 'CHAPA ANTICORADAL' 'COBRE' 'CERAMICA'\n",
            " 'FIBRA POLIESTER' 'PIEDRA Y BRONCE' 'PIEDRA RECONSTITUIDA'\n",
            " 'HORMIGON ARMADO' 'MAYOLICA Y MAMPOSTERIA' 'PINTURA AL OLEO'\n",
            " 'PIEDRA E HIERRO' 'MARMOL RECONSTITUIDO' 'RESINA POLIESTER' 'YESO'\n",
            " 'HIERRO Y HORMIGON' 'PIEDRA Y MAMPOSTERIA' 'MAMPOSTERIA Y HIERRO'\n",
            " 'GRANITO Y MAMPOSTERIA' 'MAYOLICAS' 'ACRILICO' 'MAYOLICA'\n",
            " 'MATERIAL RECONSTITUIDO' 'MADERA E HIERRO' 'MARMOL Y PIEDRA'\n",
            " 'BRONCE E HIERRO' 'VENECITA' 'GRANITO GRIS' 'MAMPOSTERIA Y PIEDRA'\n",
            " 'MARMOL Y HIERRO FORJADO' 'MAMPOSTERIA Y GRANITO' 'MARMOL Y GRANITO'\n",
            " 'HIERRO Y GRANITO' 'METALICA' 'HIERRO Y MARMOL' 'HORMIGON Y ACERO'\n",
            " 'SIMILPIEDRA Y MAMPOSTERIA' 'FIBRA POLIESTER Y MAMPOSTE'\n",
            " 'CEMENTO Y MAMPOSTERIA' 'CEMENTO PATINADO Y GRANITO' 'HORMIGON PATINADO'\n",
            " 'PIEDRA Y MARMOL' 'MARMOL DE CARRARA' 'MAMPOSTERIA Y CERAMICA'\n",
            " 'MAMPOSTERIA Y MARMOL' 'MARMOL Y HIERRO' 'BRONCE Y HIERRO'\n",
            " 'BRONCE Y MADERA' 'GARNITO Y PIEDRA' 'ACERO' 'PIEDRA ARENISCA'\n",
            " 'ALUMINIO TONALIZADO' 'MARMOL E HIERRO' 'YESO POLICROMADO' 'AZULEJOS'\n",
            " 'PIEDRA LIMAY' 'MADERA' 'BLINDEX Y MAMPOSTERIA' 'LITOGRAFIA ENMARCADA'\n",
            " 'CEDRO' 'ZINC' 'ACERO Y GRANITO']\n"
          ]
        }
      ]
    },
    {
      "cell_type": "code",
      "metadata": {
        "id": "eqOciXKl_tf1",
        "colab": {
          "base_uri": "https://localhost:8080/"
        },
        "outputId": "ee0d94ab-0b86-46e4-ef20-41e836196d1b"
      },
      "source": [
        "#Vemos los procentajes de los materiales\n",
        "percent1 = [(mn_mat_count/mn_mat_count.sum()).sort_values(ascending=False)]\n",
        "with pd.option_context('display.max_rows', None, 'display.max_columns', None):\n",
        "  print(percent1)"
      ],
      "execution_count": null,
      "outputs": [
        {
          "output_type": "stream",
          "name": "stdout",
          "text": [
            "[BRONCE Y MAMPOSTERIA          0.290814\n",
            "BRONCE                        0.196097\n",
            "MARMOL                        0.123275\n",
            "CEMENTO PATINADO              0.085198\n",
            "MAMPOSTERIA                   0.049976\n",
            "HIERRO FUNDIDO                0.025702\n",
            "HIERRO Y MAMPOSTERIA          0.019990\n",
            "HIERRO                        0.019515\n",
            "BRONCE Y GRANITO              0.019039\n",
            "MAMPOSTERIA E HIERRO          0.012851\n",
            "GRANITO                       0.012851\n",
            "BRONCE Y MARMOL               0.012851\n",
            "MARMOL Y MAMPOSTERIA          0.009043\n",
            "PIEDRA                        0.008567\n",
            "GRANITO Y BRONCE              0.007615\n",
            "MAMPOSTERIA Y MAYOLICA        0.006663\n",
            "BRONCE Y PIEDRA               0.005712\n",
            "CERAMICA                      0.005236\n",
            "ACERO INOXIDABLE              0.005236\n",
            "ALUMINIO                      0.004284\n",
            "ACRILICO                      0.004284\n",
            "FIBROCEMENTO                  0.003808\n",
            "CEMENTO                       0.002856\n",
            "MAMPOSTERIA Y BRONCE          0.002380\n",
            "YESO                          0.002380\n",
            "FIBROCEMENTO Y MAMPOSTERIA    0.002380\n",
            "GRANITO Y MAMPOSTERIA         0.002380\n",
            "BRONCE Y HORMIGON             0.001904\n",
            "CEMENTO BLANCO                0.001904\n",
            "MARMOL RECONSTITUIDO          0.001904\n",
            "MAYOLICA Y MAMPOSTERIA        0.001904\n",
            "PIEDRA RECONSTITUIDA          0.001904\n",
            "GRANITO RECONSTITUIDO         0.001428\n",
            "HORMIGON ARMADO               0.001428\n",
            "FIBRA POLIESTER               0.001428\n",
            "HIERRO Y GRANITO              0.001428\n",
            "PIEDRA Y BRONCE               0.001428\n",
            "TERRACOTA                     0.001428\n",
            "PIEDRA PARIS                  0.001428\n",
            "MARMOL Y PIEDRA               0.001428\n",
            "HIERRO FORJADO                0.001428\n",
            "MARMOL Y BRONCE               0.000952\n",
            "MAYOLICAS                     0.000952\n",
            "GRANITO E HIERRO              0.000952\n",
            "PINTURA AL OLEO               0.000952\n",
            "MARMOL Y GRANITO              0.000952\n",
            "PIEDRA Y MAMPOSTERIA          0.000952\n",
            "VENECITA                      0.000952\n",
            "MAMPOSTERIA Y MARMOL          0.000952\n",
            "CERAMICA Y MAMPOSTERIA        0.000952\n",
            "HORMIGON Y ACERO              0.000952\n",
            "MARMOL ONIX                   0.000952\n",
            "MAYOLICA                      0.000952\n",
            "CEMENTO Y MAMPOSTERIA         0.000952\n",
            "ANTIMONIO                     0.000952\n",
            "MARMOL DE CORDOBA             0.000476\n",
            "HIERRO Y HORMIGON             0.000476\n",
            "BRONCE Y HIERRO               0.000476\n",
            "HORMIGON PATINADO             0.000476\n",
            "COBRE                         0.000476\n",
            "PIEDRA MAR DEL PLATA          0.000476\n",
            "MAMPOSTERIA Y HIERRO          0.000476\n",
            "MARMOL DE CARRARA             0.000476\n",
            "HORMIGON                      0.000476\n",
            "BRONCE E HIERRO               0.000476\n",
            "PIEDRA LIMAY                  0.000476\n",
            "HIERRO Y VIDRIO               0.000476\n",
            "MARMOL E HIERRO               0.000476\n",
            "MAMPOSTERIA Y CERAMICA        0.000476\n",
            "PIEDRA E HIERRO               0.000476\n",
            "GRANITO GRIS                  0.000476\n",
            "MADERA E HIERRO               0.000476\n",
            "BRONCE Y MADERA               0.000476\n",
            "PIEDRA TOBA                   0.000476\n",
            "RESINA POLIESTER              0.000476\n",
            "FIBRA POLIESTER Y MAMPOSTE    0.000476\n",
            "LITOGRAFIA ENMARCADA          0.000476\n",
            "ACERO Y GRANITO               0.000476\n",
            "CEDRO                         0.000476\n",
            "PIEDRA ARENISCA               0.000476\n",
            "ZINC                          0.000476\n",
            "ALUMINIO TONALIZADO           0.000476\n",
            "HIERRO Y BRONCE               0.000476\n",
            "METALICA                      0.000476\n",
            "CHAPA ANTICORADAL             0.000476\n",
            "MARMOL Y HIERRO FORJADO       0.000476\n",
            "MADERA                        0.000476\n",
            "MATERIAL RECONSTITUIDO        0.000476\n",
            "YESO POLICROMADO              0.000476\n",
            "PIEDRA Y MARMOL               0.000476\n",
            "ACERO                         0.000476\n",
            "MAMPOSTERIA Y LAJAS           0.000476\n",
            "GRANITO Y CERAMICA            0.000476\n",
            "CEMENTO PATINADO Y GRANITO    0.000476\n",
            "GARNITO Y PIEDRA              0.000476\n",
            "ACRILICO Y MAMPOSTERIA        0.000476\n",
            "MARMOL Y HIERRO               0.000476\n",
            "MAMPOSTERIA Y GRANITO         0.000476\n",
            "QUEBRACHO                     0.000476\n",
            "AZULEJOS                      0.000476\n",
            "SIMILPIEDRA Y MAMPOSTERIA     0.000476\n",
            "HIERRO Y MARMOL               0.000476\n",
            "MAMPOSTERIA Y PIEDRA          0.000476\n",
            "BLINDEX Y MAMPOSTERIA         0.000476\n",
            "Name: MATERIAL, dtype: float64]\n"
          ]
        }
      ]
    },
    {
      "cell_type": "code",
      "metadata": {
        "id": "oDztaTqYmamG"
      },
      "source": [
        "## Al ser 105 tipos de materiales buscamos disminuir esta variable categorica para poder representarla gráficamente.\n",
        "## Los valores que representen un porcentaje menor al 1% de la totalidad de los materiales se catalogan como \"OTROS\"\n",
        "mn['MATERIAL'] = mn['MATERIAL'].replace(['HORMIGON PATINADO',\\\n",
        "'MADERA',\\\n",
        "'MADERA E HIERRO',\\\n",
        "'ACRILICO Y MAMPOSTERIA',\\\n",
        "'MAMPOSTERIA Y CERAMICA',\\\n",
        "'AZULEJOS',\\\n",
        "'MAMPOSTERIA Y GRANITO',\\\n",
        "'BRONCE E HIERRO',\\\n",
        "'MAMPOSTERIA Y HIERRO',\\\n",
        "'BRONCE Y MADERA',\\\n",
        "'MAMPOSTERIA Y LAJAS',\\\n",
        "'CEDRO',\\\n",
        "'MAMPOSTERIA Y MAYOL.',\\\n",
        "'CHAPA ANTICORADAL',\\\n",
        "'MAMPOSTERIA Y PIEDRA',\\\n",
        "'FIBRA POLIESTER Y MAMPOSTE',\\\n",
        "'MARMOL DE CARRARA',\\\n",
        "'GRANITO GRIS',\\\n",
        "'MARMOL DE CORDOBA',\\\n",
        "'GRANITO Y MARMOL',\\\n",
        "'MARMOL E HIERRO',\\\n",
        "'HIERRO Y HORMIGON',\\\n",
        "'MARMOL Y HIERRO',\\\n",
        "'HIERRO Y VIDRIO',\\\n",
        "'MARMOL Y HIERRO FORJADO',\\\n",
        "'ACERO Y GRANITO',\\\n",
        "'MATERIAL RECONSTITUIDO',\\\n",
        "'ZINC',\\\n",
        "'METALICA',\\\n",
        "'BLINDEX Y MAMPOSTERIA',\\\n",
        "'PIEDRA ARENISCA',\\\n",
        "'BRONCE,GRANITO Y MARMOL',\\\n",
        "'PIEDRA E HIERRO',\\\n",
        "'COBRE',\\\n",
        "'PIEDRA LIMAY',\\\n",
        "'GRANITO Y CERAMICA',\\\n",
        "'PIEDRA MAR DEL PLATA',\\\n",
        "'HIERRO Y MARMOL',\\\n",
        "'PIEDRA TOBA',\\\n",
        "'LITOGRAFIA ENMARCADA',\\\n",
        "'PIEDRA Y MARMOL',\\\n",
        "'BRONCE Y HIERRO',\\\n",
        "'QUEBRACHO',\\\n",
        "'GARNITO Y PIEDRA',\\\n",
        "'RESINA POLIESTER',\\\n",
        "'HORMIGON',\\\n",
        "'RESINA SINTETICA',\\\n",
        "'CEMENTO PATINADO Y GRANITO',\\\n",
        "'SIMILPIEDRA Y MAMPOSTERIA',\\\n",
        "'ALUMINIO TONALIZADO',\\\n",
        "'YESO PATINA NEGRA',\\\n",
        "'HIERRO Y BRONCE',\\\n",
        "'YESO POLICROMADO',\\\n",
        "'HORMIGON Y ACERO',\\\n",
        "'CEMENTO Y MAMPOSTERIA',\\\n",
        "'MAYOLICA',\\\n",
        "'CERAMICA Y MAMPOSTERIA',\\\n",
        "'MARMOL Y GRANITO',\\\n",
        "'VENECITA',\\\n",
        "'MAMPOSTERIA Y MARMOL',\\\n",
        "'ACERO',\\\n",
        "'MARMOL Y BRONCE',\\\n",
        "'MAYOLICAS',\\\n",
        "'MARMOL ONIX',\\\n",
        "'ANTIMONIO',\\\n",
        "'PINTURA AL OLEO',\\\n",
        "'PIEDRA Y MAMPOSTERIA',\\\n",
        "'MARMOL Y PIEDRA',\\\n",
        "'PIEDRA Y BRONCE',\\\n",
        "'HIERRO FORJADO',\\\n",
        "'FIBRA POLIESTER',\\\n",
        "'GRANITO E HIERRO',\\\n",
        "'HIERRO Y GRANITO',\\\n",
        "'PIEDRA PARIS',\\\n",
        "'GRANITO RECONSTITUIDO',\\\n",
        "'MAYOLICA Y MAMPOSTERIA',\\\n",
        "'MARMOL RECONSTITUIDO',\\\n",
        "'PIEDRA RECONSTITUIDA',\\\n",
        "'CEMENTO BLANCO',\\\n",
        "'BRONCE Y HORMIGON',\\\n",
        "'HORMIGON ARMADO',\\\n",
        "'MAMPOSTERIA Y BRONCE',\\\n",
        "'TERRACOTA',\\\n",
        "'YESO',\\\n",
        "'GRANITO Y MAMPOSTERIA',\\\n",
        "'CEMENTO',\\\n",
        "'FIBROCEMENTO Y MAMPOSTERIA',\\\n",
        "'ALUMINIO',\\\n",
        "'ACRILICO',\\\n",
        "'FIBROCEMENTO',\\\n",
        "'CERAMICA',\\\n",
        "'ACERO INOXIDABLE',\\\n",
        "'BRONCE Y PIEDRA',\\\n",
        "'MAMPOSTERIA Y MAYOLICA',\\\n",
        "'GRANITO Y BRONCE',\\\n",
        "'PIEDRA',\\\n",
        "'MARMOL Y MAMPOSTERIA'], 'OTROS')"
      ],
      "execution_count": null,
      "outputs": []
    },
    {
      "cell_type": "code",
      "metadata": {
        "id": "1uuOuMPyp1An",
        "colab": {
          "base_uri": "https://localhost:8080/",
          "height": 635
        },
        "outputId": "fbe9e5e9-97b6-4673-97d7-5675b0ecd6ce"
      },
      "source": [
        " ##Revisamos los reemplazos y como quedo definido nuevamente el dataset\n",
        " mn"
      ],
      "execution_count": null,
      "outputs": [
        {
          "output_type": "execute_result",
          "data": {
            "text/html": [
              "<div>\n",
              "<style scoped>\n",
              "    .dataframe tbody tr th:only-of-type {\n",
              "        vertical-align: middle;\n",
              "    }\n",
              "\n",
              "    .dataframe tbody tr th {\n",
              "        vertical-align: top;\n",
              "    }\n",
              "\n",
              "    .dataframe thead th {\n",
              "        text-align: right;\n",
              "    }\n",
              "</style>\n",
              "<table border=\"1\" class=\"dataframe\">\n",
              "  <thead>\n",
              "    <tr style=\"text-align: right;\">\n",
              "      <th></th>\n",
              "      <th>CANTIDAD_OBJETOS</th>\n",
              "      <th>MATERIAL</th>\n",
              "      <th>CALLE</th>\n",
              "      <th>ALTURA</th>\n",
              "      <th>BARRIO</th>\n",
              "      <th>COMUNA</th>\n",
              "      <th>CODIGA_POSTAL</th>\n",
              "      <th>LATITUD</th>\n",
              "      <th>LONGITUD</th>\n",
              "    </tr>\n",
              "  </thead>\n",
              "  <tbody>\n",
              "    <tr>\n",
              "      <th>0</th>\n",
              "      <td>1</td>\n",
              "      <td>OTROS</td>\n",
              "      <td>BOEDO AV.</td>\n",
              "      <td>883.0</td>\n",
              "      <td>BOEDO</td>\n",
              "      <td>COMUNA 5</td>\n",
              "      <td>1218.0</td>\n",
              "      <td>-34.623713</td>\n",
              "      <td>-58.416328</td>\n",
              "    </tr>\n",
              "    <tr>\n",
              "      <th>1</th>\n",
              "      <td>1</td>\n",
              "      <td>MARMOL</td>\n",
              "      <td>CASEROS AV.</td>\n",
              "      <td>NaN</td>\n",
              "      <td>PARQUE PATRICIOS</td>\n",
              "      <td>COMUNA 4</td>\n",
              "      <td>NaN</td>\n",
              "      <td>-34.637117</td>\n",
              "      <td>-58.405611</td>\n",
              "    </tr>\n",
              "    <tr>\n",
              "      <th>2</th>\n",
              "      <td>1</td>\n",
              "      <td>BRONCE</td>\n",
              "      <td>PERON, EVA AV.</td>\n",
              "      <td>1410.0</td>\n",
              "      <td>PARQUE CHACABUCO</td>\n",
              "      <td>COMUNA 7</td>\n",
              "      <td>1406.0</td>\n",
              "      <td>-34.632903</td>\n",
              "      <td>-58.444763</td>\n",
              "    </tr>\n",
              "    <tr>\n",
              "      <th>3</th>\n",
              "      <td>1</td>\n",
              "      <td>OTROS</td>\n",
              "      <td>AVELLANEDA AV.</td>\n",
              "      <td>3800.0</td>\n",
              "      <td>FLORESTA</td>\n",
              "      <td>COMUNA 10</td>\n",
              "      <td>1407.0</td>\n",
              "      <td>-34.629203</td>\n",
              "      <td>-58.482175</td>\n",
              "    </tr>\n",
              "    <tr>\n",
              "      <th>4</th>\n",
              "      <td>1</td>\n",
              "      <td>BRONCE Y MAMPOSTERIA</td>\n",
              "      <td>ARREGUI AV.</td>\n",
              "      <td>6400.0</td>\n",
              "      <td>VERSALLES</td>\n",
              "      <td>COMUNA 10</td>\n",
              "      <td>1408.0</td>\n",
              "      <td>-34.628472</td>\n",
              "      <td>-58.524018</td>\n",
              "    </tr>\n",
              "    <tr>\n",
              "      <th>...</th>\n",
              "      <td>...</td>\n",
              "      <td>...</td>\n",
              "      <td>...</td>\n",
              "      <td>...</td>\n",
              "      <td>...</td>\n",
              "      <td>...</td>\n",
              "      <td>...</td>\n",
              "      <td>...</td>\n",
              "      <td>...</td>\n",
              "    </tr>\n",
              "    <tr>\n",
              "      <th>2227</th>\n",
              "      <td>1</td>\n",
              "      <td>BRONCE</td>\n",
              "      <td>ESCALADA AV.</td>\n",
              "      <td>4913.0</td>\n",
              "      <td>VILLA RIACHUELO</td>\n",
              "      <td>COMUNA 8</td>\n",
              "      <td>NaN</td>\n",
              "      <td>-34.680428</td>\n",
              "      <td>-58.450130</td>\n",
              "    </tr>\n",
              "    <tr>\n",
              "      <th>2228</th>\n",
              "      <td>1</td>\n",
              "      <td>CEMENTO PATINADO</td>\n",
              "      <td>CARDENAS, CNEL. AV.</td>\n",
              "      <td>2542.0</td>\n",
              "      <td>MATADEROS</td>\n",
              "      <td>COMUNA 9</td>\n",
              "      <td>1440.0</td>\n",
              "      <td>-34.665572</td>\n",
              "      <td>-58.502948</td>\n",
              "    </tr>\n",
              "    <tr>\n",
              "      <th>2229</th>\n",
              "      <td>1</td>\n",
              "      <td>MARMOL</td>\n",
              "      <td>CONSTITUCION</td>\n",
              "      <td>3670.0</td>\n",
              "      <td>BOEDO</td>\n",
              "      <td>COMUNA 5</td>\n",
              "      <td>1254.0</td>\n",
              "      <td>-34.628063</td>\n",
              "      <td>-58.416867</td>\n",
              "    </tr>\n",
              "    <tr>\n",
              "      <th>2231</th>\n",
              "      <td>1</td>\n",
              "      <td>MAMPOSTERIA</td>\n",
              "      <td>PAZ, GRAL. AV.</td>\n",
              "      <td>16802.0</td>\n",
              "      <td>VILLA RIACHUELO</td>\n",
              "      <td>COMUNA 8</td>\n",
              "      <td>1439.0</td>\n",
              "      <td>-34.698014</td>\n",
              "      <td>-58.469811</td>\n",
              "    </tr>\n",
              "    <tr>\n",
              "      <th>2232</th>\n",
              "      <td>1</td>\n",
              "      <td>BRONCE Y GRANITO</td>\n",
              "      <td>DEL LIBERTADOR AV.</td>\n",
              "      <td>3400.0</td>\n",
              "      <td>PALERMO</td>\n",
              "      <td>COMUNA 14</td>\n",
              "      <td>1425.0</td>\n",
              "      <td>-34.575277</td>\n",
              "      <td>-58.414943</td>\n",
              "    </tr>\n",
              "  </tbody>\n",
              "</table>\n",
              "<p>2113 rows × 9 columns</p>\n",
              "</div>"
            ],
            "text/plain": [
              "      CANTIDAD_OBJETOS              MATERIAL  ...    LATITUD   LONGITUD\n",
              "0                    1                 OTROS  ... -34.623713 -58.416328\n",
              "1                    1                MARMOL  ... -34.637117 -58.405611\n",
              "2                    1                BRONCE  ... -34.632903 -58.444763\n",
              "3                    1                 OTROS  ... -34.629203 -58.482175\n",
              "4                    1  BRONCE Y MAMPOSTERIA  ... -34.628472 -58.524018\n",
              "...                ...                   ...  ...        ...        ...\n",
              "2227                 1                BRONCE  ... -34.680428 -58.450130\n",
              "2228                 1      CEMENTO PATINADO  ... -34.665572 -58.502948\n",
              "2229                 1                MARMOL  ... -34.628063 -58.416867\n",
              "2231                 1           MAMPOSTERIA  ... -34.698014 -58.469811\n",
              "2232                 1      BRONCE Y GRANITO  ... -34.575277 -58.414943\n",
              "\n",
              "[2113 rows x 9 columns]"
            ]
          },
          "metadata": {},
          "execution_count": 45
        }
      ]
    },
    {
      "cell_type": "code",
      "metadata": {
        "colab": {
          "base_uri": "https://localhost:8080/",
          "height": 357
        },
        "id": "BmJJTs6WHlc2",
        "outputId": "7ce65380-165d-49f1-be2e-f9aa0b4dd3e9"
      },
      "source": [
        "##Graficamos la cuenta de monumentos según material\n",
        "plt.figure(figsize=(30,10))\n",
        "ax=sns.countplot(x=mn.MATERIAL, data=mn.MATERIAL, palette='rocket', order= mn['MATERIAL'].value_counts().index )\n",
        "plt.xlabel(\"Material\", size =20)\n",
        "plt.ylabel(\"Cantidad de monumentos\", size=20)\n",
        "plt.title (\"Monumentos por material\", size=30)\n",
        "sns.set({'figure.figsize':(20,10)})"
      ],
      "execution_count": null,
      "outputs": [
        {
          "output_type": "display_data",
          "data": {
            "image/png": "[encoded data removed]",
            "text/plain": [
              "<Figure size 2160x720 with 1 Axes>"
            ]
          },
          "metadata": {}
        }
      ]
    },
    {
      "cell_type": "code",
      "metadata": {
        "id": "X_zijpYzq7LD"
      },
      "source": [
        "#El gráfico nos permite visualizar que los materiales agrupados como \"OTROS\", representan un alto porcentaje del total\n"
      ],
      "execution_count": null,
      "outputs": []
    },
    {
      "cell_type": "code",
      "metadata": {
        "colab": {
          "base_uri": "https://localhost:8080/",
          "height": 680
        },
        "id": "4Eg2yC_Lmnwm",
        "outputId": "e711e274-9610-445a-deb1-9448cc74f1c6"
      },
      "source": [
        "# Mediante un boxplot intentamos visualizar la cantidad de objetos por monumento en cada comuna\n",
        "sns.catplot(x=mn.COMUNA, y=mn.CANTIDAD_OBJETOS,\n",
        "                data=mn, \n",
        "                kind=\"box\",\n",
        "                palette = \"rocket\",\n",
        "                height = 5 ,aspect=3)\n",
        "plt.show()"
      ],
      "execution_count": null,
      "outputs": [
        {
          "output_type": "error",
          "ename": "ValueError",
          "evalue": "ignored",
          "traceback": [
            "\u001b[0;31m---------------------------------------------------------------------------\u001b[0m",
            "\u001b[0;31mValueError\u001b[0m                                Traceback (most recent call last)",
            "\u001b[0;32m<ipython-input-62-257869dbeebb>\u001b[0m in \u001b[0;36m<module>\u001b[0;34m()\u001b[0m\n\u001b[1;32m      4\u001b[0m                 \u001b[0mkind\u001b[0m\u001b[0;34m=\u001b[0m\u001b[0;34m\"box\"\u001b[0m\u001b[0;34m,\u001b[0m\u001b[0;34m\u001b[0m\u001b[0;34m\u001b[0m\u001b[0m\n\u001b[1;32m      5\u001b[0m                 \u001b[0mpalette\u001b[0m \u001b[0;34m=\u001b[0m \u001b[0;34m\"rocket\"\u001b[0m\u001b[0;34m,\u001b[0m\u001b[0;34m\u001b[0m\u001b[0;34m\u001b[0m\u001b[0m\n\u001b[0;32m----> 6\u001b[0;31m                 height = 5 ,aspect=3)\n\u001b[0m\u001b[1;32m      7\u001b[0m \u001b[0mplt\u001b[0m\u001b[0;34m.\u001b[0m\u001b[0mshow\u001b[0m\u001b[0;34m(\u001b[0m\u001b[0;34m)\u001b[0m\u001b[0;34m\u001b[0m\u001b[0;34m\u001b[0m\u001b[0m\n",
            "\u001b[0;32m/usr/local/lib/python3.7/dist-packages/seaborn/_decorators.py\u001b[0m in \u001b[0;36minner_f\u001b[0;34m(*args, **kwargs)\u001b[0m\n\u001b[1;32m     44\u001b[0m             )\n\u001b[1;32m     45\u001b[0m         \u001b[0mkwargs\u001b[0m\u001b[0;34m.\u001b[0m\u001b[0mupdate\u001b[0m\u001b[0;34m(\u001b[0m\u001b[0;34m{\u001b[0m\u001b[0mk\u001b[0m\u001b[0;34m:\u001b[0m \u001b[0marg\u001b[0m \u001b[0;32mfor\u001b[0m \u001b[0mk\u001b[0m\u001b[0;34m,\u001b[0m \u001b[0marg\u001b[0m \u001b[0;32min\u001b[0m \u001b[0mzip\u001b[0m\u001b[0;34m(\u001b[0m\u001b[0msig\u001b[0m\u001b[0;34m.\u001b[0m\u001b[0mparameters\u001b[0m\u001b[0;34m,\u001b[0m \u001b[0margs\u001b[0m\u001b[0;34m)\u001b[0m\u001b[0;34m}\u001b[0m\u001b[0;34m)\u001b[0m\u001b[0;34m\u001b[0m\u001b[0;34m\u001b[0m\u001b[0m\n\u001b[0;32m---> 46\u001b[0;31m         \u001b[0;32mreturn\u001b[0m \u001b[0mf\u001b[0m\u001b[0;34m(\u001b[0m\u001b[0;34m**\u001b[0m\u001b[0mkwargs\u001b[0m\u001b[0;34m)\u001b[0m\u001b[0;34m\u001b[0m\u001b[0;34m\u001b[0m\u001b[0m\n\u001b[0m\u001b[1;32m     47\u001b[0m     \u001b[0;32mreturn\u001b[0m \u001b[0minner_f\u001b[0m\u001b[0;34m\u001b[0m\u001b[0;34m\u001b[0m\u001b[0m\n\u001b[1;32m     48\u001b[0m \u001b[0;34m\u001b[0m\u001b[0m\n",
            "\u001b[0;32m/usr/local/lib/python3.7/dist-packages/seaborn/categorical.py\u001b[0m in \u001b[0;36mcatplot\u001b[0;34m(x, y, hue, data, row, col, col_wrap, estimator, ci, n_boot, units, seed, order, hue_order, row_order, col_order, kind, height, aspect, orient, color, palette, legend, legend_out, sharex, sharey, margin_titles, facet_kws, **kwargs)\u001b[0m\n\u001b[1;32m   3845\u001b[0m \u001b[0;34m\u001b[0m\u001b[0m\n\u001b[1;32m   3846\u001b[0m     \u001b[0;31m# Draw the plot onto the facets\u001b[0m\u001b[0;34m\u001b[0m\u001b[0;34m\u001b[0m\u001b[0;34m\u001b[0m\u001b[0m\n\u001b[0;32m-> 3847\u001b[0;31m     \u001b[0mg\u001b[0m\u001b[0;34m.\u001b[0m\u001b[0mmap_dataframe\u001b[0m\u001b[0;34m(\u001b[0m\u001b[0mplot_func\u001b[0m\u001b[0;34m,\u001b[0m \u001b[0mx\u001b[0m\u001b[0;34m=\u001b[0m\u001b[0mx\u001b[0m\u001b[0;34m,\u001b[0m \u001b[0my\u001b[0m\u001b[0;34m=\u001b[0m\u001b[0my\u001b[0m\u001b[0;34m,\u001b[0m \u001b[0mhue\u001b[0m\u001b[0;34m=\u001b[0m\u001b[0mhue\u001b[0m\u001b[0;34m,\u001b[0m \u001b[0;34m**\u001b[0m\u001b[0mplot_kws\u001b[0m\u001b[0;34m)\u001b[0m\u001b[0;34m\u001b[0m\u001b[0;34m\u001b[0m\u001b[0m\n\u001b[0m\u001b[1;32m   3848\u001b[0m \u001b[0;34m\u001b[0m\u001b[0m\n\u001b[1;32m   3849\u001b[0m     \u001b[0;32mif\u001b[0m \u001b[0mp\u001b[0m\u001b[0;34m.\u001b[0m\u001b[0morient\u001b[0m \u001b[0;34m==\u001b[0m \u001b[0;34m\"h\"\u001b[0m\u001b[0;34m:\u001b[0m\u001b[0;34m\u001b[0m\u001b[0;34m\u001b[0m\u001b[0m\n",
            "\u001b[0;32m/usr/local/lib/python3.7/dist-packages/seaborn/axisgrid.py\u001b[0m in \u001b[0;36mmap_dataframe\u001b[0;34m(self, func, *args, **kwargs)\u001b[0m\n\u001b[1;32m    782\u001b[0m         \u001b[0;32mfor\u001b[0m \u001b[0mi\u001b[0m\u001b[0;34m,\u001b[0m \u001b[0mval\u001b[0m \u001b[0;32min\u001b[0m \u001b[0menumerate\u001b[0m\u001b[0;34m(\u001b[0m\u001b[0margs\u001b[0m\u001b[0;34m[\u001b[0m\u001b[0;34m:\u001b[0m\u001b[0;36m2\u001b[0m\u001b[0;34m]\u001b[0m\u001b[0;34m)\u001b[0m\u001b[0;34m:\u001b[0m\u001b[0;34m\u001b[0m\u001b[0;34m\u001b[0m\u001b[0m\n\u001b[1;32m    783\u001b[0m             \u001b[0maxis_labels\u001b[0m\u001b[0;34m[\u001b[0m\u001b[0mi\u001b[0m\u001b[0;34m]\u001b[0m \u001b[0;34m=\u001b[0m \u001b[0mval\u001b[0m\u001b[0;34m\u001b[0m\u001b[0;34m\u001b[0m\u001b[0m\n\u001b[0;32m--> 784\u001b[0;31m         \u001b[0mself\u001b[0m\u001b[0;34m.\u001b[0m\u001b[0m_finalize_grid\u001b[0m\u001b[0;34m(\u001b[0m\u001b[0maxis_labels\u001b[0m\u001b[0;34m)\u001b[0m\u001b[0;34m\u001b[0m\u001b[0;34m\u001b[0m\u001b[0m\n\u001b[0m\u001b[1;32m    785\u001b[0m \u001b[0;34m\u001b[0m\u001b[0m\n\u001b[1;32m    786\u001b[0m         \u001b[0;32mreturn\u001b[0m \u001b[0mself\u001b[0m\u001b[0;34m\u001b[0m\u001b[0;34m\u001b[0m\u001b[0m\n",
            "\u001b[0;32m/usr/local/lib/python3.7/dist-packages/seaborn/axisgrid.py\u001b[0m in \u001b[0;36m_finalize_grid\u001b[0;34m(self, axlabels)\u001b[0m\n\u001b[1;32m    811\u001b[0m     \u001b[0;32mdef\u001b[0m \u001b[0m_finalize_grid\u001b[0m\u001b[0;34m(\u001b[0m\u001b[0mself\u001b[0m\u001b[0;34m,\u001b[0m \u001b[0maxlabels\u001b[0m\u001b[0;34m)\u001b[0m\u001b[0;34m:\u001b[0m\u001b[0;34m\u001b[0m\u001b[0;34m\u001b[0m\u001b[0m\n\u001b[1;32m    812\u001b[0m         \u001b[0;34m\"\"\"Finalize the annotations and layout.\"\"\"\u001b[0m\u001b[0;34m\u001b[0m\u001b[0;34m\u001b[0m\u001b[0m\n\u001b[0;32m--> 813\u001b[0;31m         \u001b[0mself\u001b[0m\u001b[0;34m.\u001b[0m\u001b[0mset_axis_labels\u001b[0m\u001b[0;34m(\u001b[0m\u001b[0;34m*\u001b[0m\u001b[0maxlabels\u001b[0m\u001b[0;34m)\u001b[0m\u001b[0;34m\u001b[0m\u001b[0;34m\u001b[0m\u001b[0m\n\u001b[0m\u001b[1;32m    814\u001b[0m         \u001b[0mself\u001b[0m\u001b[0;34m.\u001b[0m\u001b[0mset_titles\u001b[0m\u001b[0;34m(\u001b[0m\u001b[0;34m)\u001b[0m\u001b[0;34m\u001b[0m\u001b[0;34m\u001b[0m\u001b[0m\n\u001b[1;32m    815\u001b[0m         \u001b[0mself\u001b[0m\u001b[0;34m.\u001b[0m\u001b[0mtight_layout\u001b[0m\u001b[0;34m(\u001b[0m\u001b[0;34m)\u001b[0m\u001b[0;34m\u001b[0m\u001b[0;34m\u001b[0m\u001b[0m\n",
            "\u001b[0;32m/usr/local/lib/python3.7/dist-packages/seaborn/axisgrid.py\u001b[0m in \u001b[0;36mset_axis_labels\u001b[0;34m(self, x_var, y_var, clear_inner, **kwargs)\u001b[0m\n\u001b[1;32m    838\u001b[0m         \u001b[0;32mif\u001b[0m \u001b[0mx_var\u001b[0m \u001b[0;32mis\u001b[0m \u001b[0;32mnot\u001b[0m \u001b[0;32mNone\u001b[0m\u001b[0;34m:\u001b[0m\u001b[0;34m\u001b[0m\u001b[0;34m\u001b[0m\u001b[0m\n\u001b[1;32m    839\u001b[0m             \u001b[0mself\u001b[0m\u001b[0;34m.\u001b[0m\u001b[0m_x_var\u001b[0m \u001b[0;34m=\u001b[0m \u001b[0mx_var\u001b[0m\u001b[0;34m\u001b[0m\u001b[0;34m\u001b[0m\u001b[0m\n\u001b[0;32m--> 840\u001b[0;31m             \u001b[0mself\u001b[0m\u001b[0;34m.\u001b[0m\u001b[0mset_xlabels\u001b[0m\u001b[0;34m(\u001b[0m\u001b[0mx_var\u001b[0m\u001b[0;34m,\u001b[0m \u001b[0mclear_inner\u001b[0m\u001b[0;34m=\u001b[0m\u001b[0mclear_inner\u001b[0m\u001b[0;34m,\u001b[0m \u001b[0;34m**\u001b[0m\u001b[0mkwargs\u001b[0m\u001b[0;34m)\u001b[0m\u001b[0;34m\u001b[0m\u001b[0;34m\u001b[0m\u001b[0m\n\u001b[0m\u001b[1;32m    841\u001b[0m         \u001b[0;32mif\u001b[0m \u001b[0my_var\u001b[0m \u001b[0;32mis\u001b[0m \u001b[0;32mnot\u001b[0m \u001b[0;32mNone\u001b[0m\u001b[0;34m:\u001b[0m\u001b[0;34m\u001b[0m\u001b[0;34m\u001b[0m\u001b[0m\n\u001b[1;32m    842\u001b[0m             \u001b[0mself\u001b[0m\u001b[0;34m.\u001b[0m\u001b[0m_y_var\u001b[0m \u001b[0;34m=\u001b[0m \u001b[0my_var\u001b[0m\u001b[0;34m\u001b[0m\u001b[0;34m\u001b[0m\u001b[0m\n",
            "\u001b[0;32m/usr/local/lib/python3.7/dist-packages/seaborn/axisgrid.py\u001b[0m in \u001b[0;36mset_xlabels\u001b[0;34m(self, label, clear_inner, **kwargs)\u001b[0m\n\u001b[1;32m    850\u001b[0m             \u001b[0mlabel\u001b[0m \u001b[0;34m=\u001b[0m \u001b[0mself\u001b[0m\u001b[0;34m.\u001b[0m\u001b[0m_x_var\u001b[0m\u001b[0;34m\u001b[0m\u001b[0;34m\u001b[0m\u001b[0m\n\u001b[1;32m    851\u001b[0m         \u001b[0;32mfor\u001b[0m \u001b[0max\u001b[0m \u001b[0;32min\u001b[0m \u001b[0mself\u001b[0m\u001b[0;34m.\u001b[0m\u001b[0m_bottom_axes\u001b[0m\u001b[0;34m:\u001b[0m\u001b[0;34m\u001b[0m\u001b[0;34m\u001b[0m\u001b[0m\n\u001b[0;32m--> 852\u001b[0;31m             \u001b[0max\u001b[0m\u001b[0;34m.\u001b[0m\u001b[0mset_xlabel\u001b[0m\u001b[0;34m(\u001b[0m\u001b[0mlabel\u001b[0m\u001b[0;34m,\u001b[0m \u001b[0;34m**\u001b[0m\u001b[0mkwargs\u001b[0m\u001b[0;34m)\u001b[0m\u001b[0;34m\u001b[0m\u001b[0;34m\u001b[0m\u001b[0m\n\u001b[0m\u001b[1;32m    853\u001b[0m         \u001b[0;32mif\u001b[0m \u001b[0mclear_inner\u001b[0m\u001b[0;34m:\u001b[0m\u001b[0;34m\u001b[0m\u001b[0;34m\u001b[0m\u001b[0m\n\u001b[1;32m    854\u001b[0m             \u001b[0;32mfor\u001b[0m \u001b[0max\u001b[0m \u001b[0;32min\u001b[0m \u001b[0mself\u001b[0m\u001b[0;34m.\u001b[0m\u001b[0m_not_bottom_axes\u001b[0m\u001b[0;34m:\u001b[0m\u001b[0;34m\u001b[0m\u001b[0;34m\u001b[0m\u001b[0m\n",
            "\u001b[0;32m/usr/local/lib/python3.7/dist-packages/matplotlib/axes/_axes.py\u001b[0m in \u001b[0;36mset_xlabel\u001b[0;34m(self, xlabel, fontdict, labelpad, **kwargs)\u001b[0m\n\u001b[1;32m    246\u001b[0m         \u001b[0;32mif\u001b[0m \u001b[0mlabelpad\u001b[0m \u001b[0;32mis\u001b[0m \u001b[0;32mnot\u001b[0m \u001b[0;32mNone\u001b[0m\u001b[0;34m:\u001b[0m\u001b[0;34m\u001b[0m\u001b[0;34m\u001b[0m\u001b[0m\n\u001b[1;32m    247\u001b[0m             \u001b[0mself\u001b[0m\u001b[0;34m.\u001b[0m\u001b[0mxaxis\u001b[0m\u001b[0;34m.\u001b[0m\u001b[0mlabelpad\u001b[0m \u001b[0;34m=\u001b[0m \u001b[0mlabelpad\u001b[0m\u001b[0;34m\u001b[0m\u001b[0;34m\u001b[0m\u001b[0m\n\u001b[0;32m--> 248\u001b[0;31m         \u001b[0;32mreturn\u001b[0m \u001b[0mself\u001b[0m\u001b[0;34m.\u001b[0m\u001b[0mxaxis\u001b[0m\u001b[0;34m.\u001b[0m\u001b[0mset_label_text\u001b[0m\u001b[0;34m(\u001b[0m\u001b[0mxlabel\u001b[0m\u001b[0;34m,\u001b[0m \u001b[0mfontdict\u001b[0m\u001b[0;34m,\u001b[0m \u001b[0;34m**\u001b[0m\u001b[0mkwargs\u001b[0m\u001b[0;34m)\u001b[0m\u001b[0;34m\u001b[0m\u001b[0;34m\u001b[0m\u001b[0m\n\u001b[0m\u001b[1;32m    249\u001b[0m \u001b[0;34m\u001b[0m\u001b[0m\n\u001b[1;32m    250\u001b[0m     \u001b[0;32mdef\u001b[0m \u001b[0mget_ylabel\u001b[0m\u001b[0;34m(\u001b[0m\u001b[0mself\u001b[0m\u001b[0;34m)\u001b[0m\u001b[0;34m:\u001b[0m\u001b[0;34m\u001b[0m\u001b[0;34m\u001b[0m\u001b[0m\n",
            "\u001b[0;32m/usr/local/lib/python3.7/dist-packages/matplotlib/axis.py\u001b[0m in \u001b[0;36mset_label_text\u001b[0;34m(self, label, fontdict, **kwargs)\u001b[0m\n\u001b[1;32m   1611\u001b[0m         \"\"\"\n\u001b[1;32m   1612\u001b[0m         \u001b[0mself\u001b[0m\u001b[0;34m.\u001b[0m\u001b[0misDefault_label\u001b[0m \u001b[0;34m=\u001b[0m \u001b[0;32mFalse\u001b[0m\u001b[0;34m\u001b[0m\u001b[0;34m\u001b[0m\u001b[0m\n\u001b[0;32m-> 1613\u001b[0;31m         \u001b[0mself\u001b[0m\u001b[0;34m.\u001b[0m\u001b[0mlabel\u001b[0m\u001b[0;34m.\u001b[0m\u001b[0mset_text\u001b[0m\u001b[0;34m(\u001b[0m\u001b[0mlabel\u001b[0m\u001b[0;34m)\u001b[0m\u001b[0;34m\u001b[0m\u001b[0;34m\u001b[0m\u001b[0m\n\u001b[0m\u001b[1;32m   1614\u001b[0m         \u001b[0;32mif\u001b[0m \u001b[0mfontdict\u001b[0m \u001b[0;32mis\u001b[0m \u001b[0;32mnot\u001b[0m \u001b[0;32mNone\u001b[0m\u001b[0;34m:\u001b[0m\u001b[0;34m\u001b[0m\u001b[0;34m\u001b[0m\u001b[0m\n\u001b[1;32m   1615\u001b[0m             \u001b[0mself\u001b[0m\u001b[0;34m.\u001b[0m\u001b[0mlabel\u001b[0m\u001b[0;34m.\u001b[0m\u001b[0mupdate\u001b[0m\u001b[0;34m(\u001b[0m\u001b[0mfontdict\u001b[0m\u001b[0;34m)\u001b[0m\u001b[0;34m\u001b[0m\u001b[0;34m\u001b[0m\u001b[0m\n",
            "\u001b[0;32m/usr/local/lib/python3.7/dist-packages/matplotlib/text.py\u001b[0m in \u001b[0;36mset_text\u001b[0;34m(self, s)\u001b[0m\n\u001b[1;32m   1163\u001b[0m         \u001b[0;32mif\u001b[0m \u001b[0ms\u001b[0m \u001b[0;32mis\u001b[0m \u001b[0;32mNone\u001b[0m\u001b[0;34m:\u001b[0m\u001b[0;34m\u001b[0m\u001b[0;34m\u001b[0m\u001b[0m\n\u001b[1;32m   1164\u001b[0m             \u001b[0ms\u001b[0m \u001b[0;34m=\u001b[0m \u001b[0;34m''\u001b[0m\u001b[0;34m\u001b[0m\u001b[0;34m\u001b[0m\u001b[0m\n\u001b[0;32m-> 1165\u001b[0;31m         \u001b[0;32mif\u001b[0m \u001b[0ms\u001b[0m \u001b[0;34m!=\u001b[0m \u001b[0mself\u001b[0m\u001b[0;34m.\u001b[0m\u001b[0m_text\u001b[0m\u001b[0;34m:\u001b[0m\u001b[0;34m\u001b[0m\u001b[0;34m\u001b[0m\u001b[0m\n\u001b[0m\u001b[1;32m   1166\u001b[0m             \u001b[0mself\u001b[0m\u001b[0;34m.\u001b[0m\u001b[0m_text\u001b[0m \u001b[0;34m=\u001b[0m \u001b[0mstr\u001b[0m\u001b[0;34m(\u001b[0m\u001b[0ms\u001b[0m\u001b[0;34m)\u001b[0m\u001b[0;34m\u001b[0m\u001b[0;34m\u001b[0m\u001b[0m\n\u001b[1;32m   1167\u001b[0m             \u001b[0mself\u001b[0m\u001b[0;34m.\u001b[0m\u001b[0mstale\u001b[0m \u001b[0;34m=\u001b[0m \u001b[0;32mTrue\u001b[0m\u001b[0;34m\u001b[0m\u001b[0;34m\u001b[0m\u001b[0m\n",
            "\u001b[0;32m/usr/local/lib/python3.7/dist-packages/pandas/core/generic.py\u001b[0m in \u001b[0;36m__nonzero__\u001b[0;34m(self)\u001b[0m\n\u001b[1;32m   1328\u001b[0m     \u001b[0;32mdef\u001b[0m \u001b[0m__nonzero__\u001b[0m\u001b[0;34m(\u001b[0m\u001b[0mself\u001b[0m\u001b[0;34m)\u001b[0m\u001b[0;34m:\u001b[0m\u001b[0;34m\u001b[0m\u001b[0;34m\u001b[0m\u001b[0m\n\u001b[1;32m   1329\u001b[0m         raise ValueError(\n\u001b[0;32m-> 1330\u001b[0;31m             \u001b[0;34mf\"The truth value of a {type(self).__name__} is ambiguous. \"\u001b[0m\u001b[0;34m\u001b[0m\u001b[0;34m\u001b[0m\u001b[0m\n\u001b[0m\u001b[1;32m   1331\u001b[0m             \u001b[0;34m\"Use a.empty, a.bool(), a.item(), a.any() or a.all().\"\u001b[0m\u001b[0;34m\u001b[0m\u001b[0;34m\u001b[0m\u001b[0m\n\u001b[1;32m   1332\u001b[0m         )\n",
            "\u001b[0;31mValueError\u001b[0m: The truth value of a Series is ambiguous. Use a.empty, a.bool(), a.item(), a.any() or a.all()."
          ]
        },
        {
          "output_type": "display_data",
          "data": {
            "image/png": "[encoded data removed]",
            "text/plain": [
              "<Figure size 1080x360 with 1 Axes>"
            ]
          },
          "metadata": {}
        }
      ]
    },
    {
      "cell_type": "code",
      "metadata": {
        "id": "wm6TwDiZ6amR"
      },
      "source": [
        "# Lo que podemos ver con esta gráfica es que casi en su totalidad los monumentos cuentan unicamente con un objeto\n",
        "# en su composición, salvo casos aislados."
      ],
      "execution_count": null,
      "outputs": []
    },
    {
      "cell_type": "code",
      "metadata": {
        "colab": {
          "base_uri": "https://localhost:8080/",
          "height": 497
        },
        "id": "VfdH9d13nuEJ",
        "outputId": "b28ce292-6496-487b-bacc-ad5e15029992"
      },
      "source": [
        "##Mostramos con \"LONGITUD\" Y \"LATITUD\" la ubicación de cada monumento discriminado por comuna\n",
        "plt.figure(figsize=(10,8))\n",
        "sns.scatterplot(mn['LONGITUD'],mn['LATITUD'],hue=mn['COMUNA'],palette='rocket')\n",
        "plt.legend(loc=(1,0.475))\n",
        "plt.show()"
      ],
      "execution_count": null,
      "outputs": [
        {
          "output_type": "display_data",
          "data": {
            "image/png": "[encoded data removed]",
            "text/plain": [
              "<Figure size 720x576 with 1 Axes>"
            ]
          },
          "metadata": {}
        }
      ]
    },
    {
      "cell_type": "code",
      "metadata": {
        "id": "QAY_XWPnrYox",
        "colab": {
          "base_uri": "https://localhost:8080/"
        },
        "outputId": "22e2757a-1ee1-4f5c-d8b3-bcc78bddbc8d"
      },
      "source": [
        "##Generamos una pivot table para poder graficar luego la distribución por materiales de los monumentos en cada comuna.\n",
        "tabla = pd.pivot_table(mn,values = ['MATERIAL'], columns =  mn.MATERIAL ,index = [mn.COMUNA] , aggfunc = 'count')\n",
        "print (tabla)"
      ],
      "execution_count": null,
      "outputs": [
        {
          "output_type": "stream",
          "name": "stdout",
          "text": [
            "          MATERIAL                   ...             \n",
            "MATERIAL    BRONCE BRONCE Y GRANITO  ... MARMOL OTROS\n",
            "COMUNA                               ...             \n",
            "COMUNA 1      31.0              6.0  ...   51.0  32.0\n",
            "COMUNA 10      6.0              NaN  ...    2.0   5.0\n",
            "COMUNA 11      1.0              NaN  ...    1.0   5.0\n",
            "COMUNA 12      9.0              NaN  ...    6.0   1.0\n",
            "COMUNA 13      9.0              3.0  ...    5.0  10.0\n",
            "COMUNA 14    153.0             11.0  ...   74.0  36.0\n",
            "COMUNA 15     10.0              NaN  ...    5.0   6.0\n",
            "COMUNA 2      27.0              5.0  ...   16.0  20.0\n",
            "COMUNA 3      22.0              1.0  ...    7.0  16.0\n",
            "COMUNA 4      12.0              NaN  ...   10.0   9.0\n",
            "COMUNA 5       1.0              NaN  ...    2.0   9.0\n",
            "COMUNA 6       6.0              NaN  ...    5.0   9.0\n",
            "COMUNA 7      24.0              NaN  ...    4.0  15.0\n",
            "COMUNA 8      10.0              2.0  ...    2.0   3.0\n",
            "COMUNA 9       6.0              1.0  ...    5.0   6.0\n",
            "\n",
            "[15 rows x 13 columns]\n"
          ]
        }
      ]
    },
    {
      "cell_type": "code",
      "metadata": {
        "colab": {
          "base_uri": "https://localhost:8080/",
          "height": 823
        },
        "id": "K06_e_FPy9UF",
        "outputId": "706d3295-6e2e-4779-a658-edebe8a58b37"
      },
      "source": [
        "##Graficamos \n",
        "tabla.plot(kind='bar', figsize = (20,10), stacked = True, colormap='rocket')\n",
        "plt.title(\"MATERIAL POR COMUNA\", size=30)\n",
        "plt.xticks(rotation=0)\n",
        "plt.colorbar=False\n",
        "plt.legend(loc = (1,1))\n",
        "plt.show()"
      ],
      "execution_count": null,
      "outputs": [
        {
          "output_type": "display_data",
          "data": {
            "image/png": "[encoded data removed]",
            "text/plain": [
              "<Figure size 1440x720 with 1 Axes>"
            ]
          },
          "metadata": {}
        }
      ]
    },
    {
      "cell_type": "markdown",
      "metadata": {
        "id": "CCw4Pru5T5iq"
      },
      "source": [
        "##Aprendizaje\n"
      ]
    },
    {
      "cell_type": "code",
      "metadata": {
        "id": "PsCTlOFWFKIn"
      },
      "source": [
        "#En esta etapa vamos a entrenar a nuestros modelos para predecir en base a la \"LONGITUD\", \"CODIGO_POSTAL\" Y \"ALTURA\"\n",
        "#nos de como resultado cual es la calle en la que se encuentra el monumento."
      ],
      "execution_count": null,
      "outputs": []
    },
    {
      "cell_type": "code",
      "metadata": {
        "colab": {
          "base_uri": "https://localhost:8080/"
        },
        "id": "Vkbiq1RnWADE",
        "outputId": "d776d9b6-daa8-4da0-d50f-d469c3ed7efe"
      },
      "source": [
        "#Revisamos nuevamente el dataset para confirmar que esten los valores que vamos a utilizar y si tiene NaN´s\n",
        "mn.info()"
      ],
      "execution_count": null,
      "outputs": [
        {
          "output_type": "stream",
          "name": "stdout",
          "text": [
            "<class 'pandas.core.frame.DataFrame'>\n",
            "Int64Index: 2113 entries, 0 to 2232\n",
            "Data columns (total 9 columns):\n",
            " #   Column            Non-Null Count  Dtype  \n",
            "---  ------            --------------  -----  \n",
            " 0   CANTIDAD_OBJETOS  2113 non-null   int64  \n",
            " 1   MATERIAL          2101 non-null   object \n",
            " 2   CALLE             2113 non-null   object \n",
            " 3   ALTURA            1513 non-null   float64\n",
            " 4   BARRIO            1921 non-null   object \n",
            " 5   COMUNA            2113 non-null   object \n",
            " 6   CODIGA_POSTAL     1504 non-null   float64\n",
            " 7   LATITUD           2103 non-null   float64\n",
            " 8   LONGITUD          2103 non-null   float64\n",
            "dtypes: float64(4), int64(1), object(4)\n",
            "memory usage: 245.1+ KB\n"
          ]
        }
      ]
    },
    {
      "cell_type": "code",
      "metadata": {
        "id": "jtPcNSYCWNl4"
      },
      "source": [
        "#Eliminamos valores NaN´s de las variables que vamos a utilizar\n",
        "mn.dropna(subset = [\"CODIGA_POSTAL\", \"ALTURA\", \"CALLE\", \"LATITUD\", \"LONGITUD\" ], inplace=True)"
      ],
      "execution_count": null,
      "outputs": []
    },
    {
      "cell_type": "code",
      "metadata": {
        "colab": {
          "base_uri": "https://localhost:8080/",
          "height": 560
        },
        "id": "9zbpfjIlo02J",
        "outputId": "8af58898-b490-4286-c3fb-af36de7c2615"
      },
      "source": [
        "#Revisamos cuales son las variables que cuentan con mayor correlación\n",
        "mnmat=mn.corr()\n",
        "sns.heatmap(mnmat, annot=True)"
      ],
      "execution_count": null,
      "outputs": [
        {
          "output_type": "execute_result",
          "data": {
            "text/plain": [
              "<matplotlib.axes._subplots.AxesSubplot at 0x7f8ed6af3550>"
            ]
          },
          "metadata": {},
          "execution_count": 53
        },
        {
          "output_type": "display_data",
          "data": {
            "image/png": "[encoded data removed]",
            "text/plain": [
              "<Figure size 1440x720 with 2 Axes>"
            ]
          },
          "metadata": {}
        }
      ]
    },
    {
      "cell_type": "code",
      "metadata": {
        "id": "gB7dSp1sUE4v"
      },
      "source": [
        "#Definimos x e y\n",
        "x = mn.loc[:,['ALTURA', 'CODIGA_POSTAL','LONGITUD']]\n",
        "y = mn.loc[:,['CALLE']]"
      ],
      "execution_count": null,
      "outputs": []
    },
    {
      "cell_type": "code",
      "metadata": {
        "id": "3yLbZbaXUWah"
      },
      "source": [
        "le = preprocessing.LabelEncoder()\n",
        "y=le.fit_transform(y)"
      ],
      "execution_count": null,
      "outputs": []
    },
    {
      "cell_type": "code",
      "metadata": {
        "colab": {
          "base_uri": "https://localhost:8080/",
          "height": 424
        },
        "id": "byuNH-T1Uojf",
        "outputId": "dbde4ee5-ae1a-4fc1-c3c3-773f332d879b"
      },
      "source": [
        "#Vemos como queda x\n",
        "x"
      ],
      "execution_count": null,
      "outputs": [
        {
          "output_type": "execute_result",
          "data": {
            "text/html": [
              "<div>\n",
              "<style scoped>\n",
              "    .dataframe tbody tr th:only-of-type {\n",
              "        vertical-align: middle;\n",
              "    }\n",
              "\n",
              "    .dataframe tbody tr th {\n",
              "        vertical-align: top;\n",
              "    }\n",
              "\n",
              "    .dataframe thead th {\n",
              "        text-align: right;\n",
              "    }\n",
              "</style>\n",
              "<table border=\"1\" class=\"dataframe\">\n",
              "  <thead>\n",
              "    <tr style=\"text-align: right;\">\n",
              "      <th></th>\n",
              "      <th>ALTURA</th>\n",
              "      <th>CODIGA_POSTAL</th>\n",
              "      <th>LONGITUD</th>\n",
              "    </tr>\n",
              "  </thead>\n",
              "  <tbody>\n",
              "    <tr>\n",
              "      <th>0</th>\n",
              "      <td>883.0</td>\n",
              "      <td>1218.0</td>\n",
              "      <td>-58.416328</td>\n",
              "    </tr>\n",
              "    <tr>\n",
              "      <th>2</th>\n",
              "      <td>1410.0</td>\n",
              "      <td>1406.0</td>\n",
              "      <td>-58.444763</td>\n",
              "    </tr>\n",
              "    <tr>\n",
              "      <th>3</th>\n",
              "      <td>3800.0</td>\n",
              "      <td>1407.0</td>\n",
              "      <td>-58.482175</td>\n",
              "    </tr>\n",
              "    <tr>\n",
              "      <th>4</th>\n",
              "      <td>6400.0</td>\n",
              "      <td>1408.0</td>\n",
              "      <td>-58.524018</td>\n",
              "    </tr>\n",
              "    <tr>\n",
              "      <th>5</th>\n",
              "      <td>90.0</td>\n",
              "      <td>1003.0</td>\n",
              "      <td>-58.370369</td>\n",
              "    </tr>\n",
              "    <tr>\n",
              "      <th>...</th>\n",
              "      <td>...</td>\n",
              "      <td>...</td>\n",
              "      <td>...</td>\n",
              "    </tr>\n",
              "    <tr>\n",
              "      <th>2226</th>\n",
              "      <td>3951.0</td>\n",
              "      <td>1425.0</td>\n",
              "      <td>-58.417884</td>\n",
              "    </tr>\n",
              "    <tr>\n",
              "      <th>2228</th>\n",
              "      <td>2542.0</td>\n",
              "      <td>1440.0</td>\n",
              "      <td>-58.502948</td>\n",
              "    </tr>\n",
              "    <tr>\n",
              "      <th>2229</th>\n",
              "      <td>3670.0</td>\n",
              "      <td>1254.0</td>\n",
              "      <td>-58.416867</td>\n",
              "    </tr>\n",
              "    <tr>\n",
              "      <th>2231</th>\n",
              "      <td>16802.0</td>\n",
              "      <td>1439.0</td>\n",
              "      <td>-58.469811</td>\n",
              "    </tr>\n",
              "    <tr>\n",
              "      <th>2232</th>\n",
              "      <td>3400.0</td>\n",
              "      <td>1425.0</td>\n",
              "      <td>-58.414943</td>\n",
              "    </tr>\n",
              "  </tbody>\n",
              "</table>\n",
              "<p>1504 rows × 3 columns</p>\n",
              "</div>"
            ],
            "text/plain": [
              "       ALTURA  CODIGA_POSTAL   LONGITUD\n",
              "0       883.0         1218.0 -58.416328\n",
              "2      1410.0         1406.0 -58.444763\n",
              "3      3800.0         1407.0 -58.482175\n",
              "4      6400.0         1408.0 -58.524018\n",
              "5        90.0         1003.0 -58.370369\n",
              "...       ...            ...        ...\n",
              "2226   3951.0         1425.0 -58.417884\n",
              "2228   2542.0         1440.0 -58.502948\n",
              "2229   3670.0         1254.0 -58.416867\n",
              "2231  16802.0         1439.0 -58.469811\n",
              "2232   3400.0         1425.0 -58.414943\n",
              "\n",
              "[1504 rows x 3 columns]"
            ]
          },
          "metadata": {},
          "execution_count": 56
        }
      ]
    },
    {
      "cell_type": "code",
      "metadata": {
        "id": "dc45n23sUxCi"
      },
      "source": [
        "#Definimos el tamaño de la muestra de test y la cantidad de veces que repetimos el experimento\n",
        "#Tomamos un tamaño promedio del 25%\n",
        "X_train, X_test, y_train, y_test = train_test_split(x,y,test_size=0.25,random_state=15)\n"
      ],
      "execution_count": null,
      "outputs": []
    },
    {
      "cell_type": "code",
      "metadata": {
        "id": "j94Bt3fbVO-o"
      },
      "source": [
        "norm = MinMaxScaler().fit(X_train)"
      ],
      "execution_count": null,
      "outputs": []
    },
    {
      "cell_type": "code",
      "metadata": {
        "id": "KUCnTnl6VQkT"
      },
      "source": [
        "X_train_norm = norm.transform(X_train)"
      ],
      "execution_count": null,
      "outputs": []
    },
    {
      "cell_type": "code",
      "metadata": {
        "id": "SD5zG9xNVSGX"
      },
      "source": [
        "X_test_norm = norm.transform(X_test)"
      ],
      "execution_count": null,
      "outputs": []
    },
    {
      "cell_type": "markdown",
      "metadata": {
        "id": "rK7-t7jfwpHC"
      },
      "source": [
        "##Logistic Regression"
      ]
    },
    {
      "cell_type": "code",
      "metadata": {
        "colab": {
          "base_uri": "https://localhost:8080/"
        },
        "id": "LSBsI2w5VTHx",
        "outputId": "ce840f5a-7141-4beb-9113-48cf54e29cc5"
      },
      "source": [
        "# Creamos el modelo de regresion logistica y usamos Cross Validation para ver cual hiperparametro ajusta mejor\n",
        "param_lr = {'C':[1, 10, 100, 1000], \"penalty\": (\"l1\", \"l2\"), \"solver\":(\"lbfgs\", \"liblinear\")}\n",
        "lr = LogisticRegression()\n",
        "clf_lr = GridSearchCV(lr, param_grid = param_lr , scoring= 'accuracy', refit = True, cv = 3)\n",
        "clf_lr.fit(X_train_norm, y_train.ravel())"
      ],
      "execution_count": null,
      "outputs": [
        {
          "output_type": "execute_result",
          "data": {
            "text/plain": [
              "GridSearchCV(cv=3, estimator=LogisticRegression(),\n",
              "             param_grid={'C': [1, 10, 100, 1000], 'penalty': ('l1', 'l2'),\n",
              "                         'solver': ('lbfgs', 'liblinear')},\n",
              "             scoring='accuracy')"
            ]
          },
          "metadata": {},
          "execution_count": 61
        }
      ]
    },
    {
      "cell_type": "code",
      "metadata": {
        "id": "kOOXXRiGVWa_"
      },
      "source": [
        "#Guardamos los resultados Logistic Regression\n",
        "scores = clf_lr.cv_results_\n"
      ],
      "execution_count": null,
      "outputs": []
    },
    {
      "cell_type": "code",
      "metadata": {
        "colab": {
          "base_uri": "https://localhost:8080/"
        },
        "id": "yVD5T7fvW5NG",
        "outputId": "e3a7adb5-2387-487c-d269-ed1eaf0e82f9"
      },
      "source": [
        "print(\"Los mejores parametros son %s con un score de %0.2f\" % (clf_lr.best_params_, clf_lr.best_score_))\n"
      ],
      "execution_count": null,
      "outputs": [
        {
          "output_type": "stream",
          "name": "stdout",
          "text": [
            "Los mejores parametros son {'C': 1000, 'penalty': 'l2', 'solver': 'lbfgs'} con un score de 0.52\n"
          ]
        }
      ]
    },
    {
      "cell_type": "markdown",
      "metadata": {
        "id": "glJZ_ZwqxAus"
      },
      "source": [
        "##KNN"
      ]
    },
    {
      "cell_type": "code",
      "metadata": {
        "id": "K8M9k77QVcwP"
      },
      "source": [
        "#Definimos el modelo KNN\n",
        "neigh = KNeighborsClassifier()"
      ],
      "execution_count": null,
      "outputs": []
    },
    {
      "cell_type": "code",
      "metadata": {
        "id": "jUQpWAvRVqma"
      },
      "source": [
        "#Le damos valores a los hiperparametros del modelo 1, 10, 100 y 200\n",
        "param_neigh = {'n_neighbors': [1, 10, 100, 200]}"
      ],
      "execution_count": null,
      "outputs": []
    },
    {
      "cell_type": "code",
      "metadata": {
        "colab": {
          "base_uri": "https://localhost:8080/"
        },
        "id": "_SNop05xVsCr",
        "outputId": "cba06412-8a90-45f0-df3a-260f3e788515"
      },
      "source": [
        "#Usamos Cross Validation para ver cual hiperparametro ajusta mejor\n",
        "clf = GridSearchCV(neigh, param_grid = param_neigh,scoring= 'accuracy', refit = True, cv = 3)\n",
        "clf.fit(X_train_norm, y_train.ravel())"
      ],
      "execution_count": null,
      "outputs": [
        {
          "output_type": "execute_result",
          "data": {
            "text/plain": [
              "GridSearchCV(cv=3, estimator=KNeighborsClassifier(),\n",
              "             param_grid={'n_neighbors': [1, 10, 100, 200]}, scoring='accuracy')"
            ]
          },
          "metadata": {},
          "execution_count": 123
        }
      ]
    },
    {
      "cell_type": "code",
      "metadata": {
        "id": "ooZWuMFwVu4Q"
      },
      "source": [
        "#Guardamos los resultados del KNN\n",
        "scores = clf.cv_results_\n"
      ],
      "execution_count": null,
      "outputs": []
    },
    {
      "cell_type": "code",
      "metadata": {
        "colab": {
          "base_uri": "https://localhost:8080/"
        },
        "id": "gDa9dihYXlcw",
        "outputId": "7e875cb9-4909-485f-818f-7729c756c50e"
      },
      "source": [
        "print(\"Los mejores parametros son %s con un score de %0.2f\" % (clf.best_params_, clf.best_score_))\n"
      ],
      "execution_count": null,
      "outputs": [
        {
          "output_type": "stream",
          "name": "stdout",
          "text": [
            "Los mejores parametros son {'n_neighbors': 1} con un score de 0.93\n"
          ]
        }
      ]
    },
    {
      "cell_type": "markdown",
      "metadata": {
        "id": "lau0YgEdyp8h"
      },
      "source": [
        "##SVM"
      ]
    },
    {
      "cell_type": "code",
      "metadata": {
        "id": "heWMVDE5Xp9F"
      },
      "source": [
        "#Creamos el modelo Support Vector Classification (SVC)\n",
        "param_svc = {'kernel':('linear', 'rbf'), 'C':[1, 10, 100, 1000], 'gamma':[0.0001,0.001, 0.01, 0.1,1, 10,100]}\n"
      ],
      "execution_count": null,
      "outputs": []
    },
    {
      "cell_type": "code",
      "metadata": {
        "id": "whXMVjX0XrXF"
      },
      "source": [
        "svc = svm.SVC()\n"
      ],
      "execution_count": null,
      "outputs": []
    },
    {
      "cell_type": "code",
      "metadata": {
        "id": "0WV2Zu9UXs53"
      },
      "source": [
        "#Usamos Cross Validation para ver cual hiperparametro ajusta mejor\n",
        "clf_svm = GridSearchCV(svc, param_grid = param_svc, refit = True, cv = 3)\n"
      ],
      "execution_count": null,
      "outputs": []
    },
    {
      "cell_type": "code",
      "metadata": {
        "colab": {
          "base_uri": "https://localhost:8080/"
        },
        "id": "W1xttPGfXyFM",
        "outputId": "2aa82833-4ae5-4fb3-d477-300fa6419e87"
      },
      "source": [
        "clf_svm.fit(X_train_norm, y_train.ravel())\n"
      ],
      "execution_count": null,
      "outputs": [
        {
          "output_type": "execute_result",
          "data": {
            "text/plain": [
              "GridSearchCV(cv=3, estimator=SVC(),\n",
              "             param_grid={'C': [1, 10, 100, 1000],\n",
              "                         'gamma': [0.0001, 0.001, 0.01, 0.1, 1, 10, 100],\n",
              "                         'kernel': ('linear', 'rbf')})"
            ]
          },
          "metadata": {},
          "execution_count": 90
        }
      ]
    },
    {
      "cell_type": "code",
      "metadata": {
        "id": "k9shv3GTXz7_"
      },
      "source": [
        "#Guardamos los resultados del SVM\n",
        "scores = clf_svm.cv_results_"
      ],
      "execution_count": null,
      "outputs": []
    },
    {
      "cell_type": "code",
      "metadata": {
        "colab": {
          "base_uri": "https://localhost:8080/"
        },
        "id": "INbVolc4X1zt",
        "outputId": "62699693-68fc-4675-bea5-b1997cc33e17"
      },
      "source": [
        "print(\"Los mejores parametros son %s con un score de %0.2f\" % (clf_svm.best_params_, clf_svm.best_score_))\n"
      ],
      "execution_count": null,
      "outputs": [
        {
          "output_type": "stream",
          "name": "stdout",
          "text": [
            "Los mejores parametros son {'C': 1000, 'gamma': 10, 'kernel': 'rbf'} con un score de 0.93\n"
          ]
        }
      ]
    },
    {
      "cell_type": "markdown",
      "metadata": {
        "id": "7qMwh-oH4LeF"
      },
      "source": [
        "##Random Forest"
      ]
    },
    {
      "cell_type": "code",
      "metadata": {
        "id": "F0ubuSayX9Vg"
      },
      "source": [
        "rf= RandomForestClassifier(class_weight='balanced', random_state=1)\n"
      ],
      "execution_count": null,
      "outputs": []
    },
    {
      "cell_type": "code",
      "metadata": {
        "id": "_xmQeUECX-Rj"
      },
      "source": [
        "param_trees = {'n_estimators': [50, 100, 200], \n",
        "               'max_features': [1, 5, 8], \n",
        "               'max_depth': [5, 20, 50, 70], \n",
        "               'min_samples_leaf':[1, 5, 8, 10]}"
      ],
      "execution_count": null,
      "outputs": []
    },
    {
      "cell_type": "code",
      "metadata": {
        "colab": {
          "base_uri": "https://localhost:8080/"
        },
        "id": "YTwNBiuEX_t_",
        "outputId": "f98469ce-df16-46af-baa9-2ebb6bcadb46"
      },
      "source": [
        "#Usamos Cross Validation para ver cual hiperparametro ajusta mejor\n",
        "clf_rf = GridSearchCV(rf, param_grid = param_trees,scoring= 'accuracy', refit = True, cv = 3)\n",
        "clf_rf.fit(X_train_norm, y_train.ravel())"
      ],
      "execution_count": null,
      "outputs": [
        {
          "output_type": "execute_result",
          "data": {
            "text/plain": [
              "GridSearchCV(cv=3,\n",
              "             estimator=RandomForestClassifier(class_weight='balanced',\n",
              "                                              random_state=1),\n",
              "             param_grid={'max_depth': [5, 20, 50, 70],\n",
              "                         'max_features': [1, 5, 8],\n",
              "                         'min_samples_leaf': [1, 5, 8, 10],\n",
              "                         'n_estimators': [50, 100, 200]},\n",
              "             scoring='accuracy')"
            ]
          },
          "metadata": {},
          "execution_count": 95
        }
      ]
    },
    {
      "cell_type": "code",
      "metadata": {
        "id": "DsGiwxUiYBcS"
      },
      "source": [
        "#Guardamos los resultados del random forest\n",
        "scores = clf_rf.cv_results_\n"
      ],
      "execution_count": null,
      "outputs": []
    },
    {
      "cell_type": "code",
      "metadata": {
        "colab": {
          "base_uri": "https://localhost:8080/"
        },
        "id": "iGjMp-iHYC2E",
        "outputId": "dce3bcb6-00cc-4ee2-f9c7-c8601805bd1b"
      },
      "source": [
        "print(\"Los mejores parametros son %s con un score de %0.2f\" % (clf_rf.best_params_, clf_rf.best_score_))\n"
      ],
      "execution_count": null,
      "outputs": [
        {
          "output_type": "stream",
          "name": "stdout",
          "text": [
            "Los mejores parametros son {'max_depth': 50, 'max_features': 1, 'min_samples_leaf': 1, 'n_estimators': 100} con un score de 0.93\n"
          ]
        }
      ]
    },
    {
      "cell_type": "markdown",
      "metadata": {
        "id": "UyYzxswlsdMs"
      },
      "source": [
        "##Evaluación de los modelos"
      ]
    },
    {
      "cell_type": "code",
      "metadata": {
        "id": "Xzi9S2FH5V0Z"
      },
      "source": [
        "#Evaluamos los tres modelos con los score iguales y mas altos"
      ],
      "execution_count": null,
      "outputs": []
    },
    {
      "cell_type": "code",
      "metadata": {
        "id": "gYT_nK9F7SC-"
      },
      "source": [
        "#KNN"
      ],
      "execution_count": null,
      "outputs": []
    },
    {
      "cell_type": "code",
      "metadata": {
        "colab": {
          "base_uri": "https://localhost:8080/"
        },
        "id": "mqbRmZdy7TZx",
        "outputId": "0bb74d08-25e5-46a4-e732-6d71b3c3229e"
      },
      "source": [
        " clf.fit(X_train_norm, y_train)"
      ],
      "execution_count": null,
      "outputs": [
        {
          "output_type": "execute_result",
          "data": {
            "text/plain": [
              "GridSearchCV(cv=3, estimator=KNeighborsClassifier(),\n",
              "             param_grid={'n_neighbors': [1, 10, 100, 200]}, scoring='accuracy')"
            ]
          },
          "metadata": {},
          "execution_count": 100
        }
      ]
    },
    {
      "cell_type": "code",
      "metadata": {
        "id": "FEaL8KER7Wv0"
      },
      "source": [
        "# Generamos predicciones con el modelo entrenado para las muestras de Test, utilizando solo X_test_norm\n",
        "ypred = clf_svm.predict(X_test_norm)"
      ],
      "execution_count": null,
      "outputs": []
    },
    {
      "cell_type": "code",
      "metadata": {
        "colab": {
          "base_uri": "https://localhost:8080/"
        },
        "id": "W9ygnlom7YNx",
        "outputId": "19e17820-7cc5-4614-9fbf-025a2a19ccf4"
      },
      "source": [
        "# Computamos el accuracy, comparando y_test vs ypred\n",
        "test_acc = accuracy_score(y_test, ypred)\n",
        "print(\"El accuracy es \" + str(test_acc))"
      ],
      "execution_count": null,
      "outputs": [
        {
          "output_type": "stream",
          "name": "stdout",
          "text": [
            "El accuracy es 0.9095744680851063\n"
          ]
        }
      ]
    },
    {
      "cell_type": "code",
      "metadata": {
        "id": "ACiOYDt551O6"
      },
      "source": [
        "#SVM"
      ],
      "execution_count": null,
      "outputs": []
    },
    {
      "cell_type": "code",
      "metadata": {
        "colab": {
          "base_uri": "https://localhost:8080/"
        },
        "id": "CMpqobiu1YSZ",
        "outputId": "ed5d0dbd-850c-4e32-d981-b8b77561db93"
      },
      "source": [
        " clf_svm.fit(X_train_norm, y_train)"
      ],
      "execution_count": null,
      "outputs": [
        {
          "output_type": "execute_result",
          "data": {
            "text/plain": [
              "GridSearchCV(cv=3, estimator=SVC(),\n",
              "             param_grid={'C': [1, 10, 100, 1000],\n",
              "                         'gamma': [0.0001, 0.001, 0.01, 0.1, 1, 10, 100],\n",
              "                         'kernel': ('linear', 'rbf')})"
            ]
          },
          "metadata": {},
          "execution_count": 104
        }
      ]
    },
    {
      "cell_type": "code",
      "metadata": {
        "id": "L3Wi0sfk1k0S"
      },
      "source": [
        "# Generamos predicciones con el modelo entrenado para las muestras de Test, utilizando solo X_test_norm\n",
        "ypred1 = clf_svm.predict(X_test_norm)"
      ],
      "execution_count": null,
      "outputs": []
    },
    {
      "cell_type": "code",
      "metadata": {
        "colab": {
          "base_uri": "https://localhost:8080/"
        },
        "id": "IFcFoUk12-sY",
        "outputId": "f9e47291-7939-4ec1-c2e3-cb104fea1201"
      },
      "source": [
        "# Computamos el accuracy, comparando y_test vs ypred\n",
        "test_acc1 = accuracy_score(y_test, ypred1)\n",
        "print(\"El accuracy es \" + str(test_acc1))"
      ],
      "execution_count": null,
      "outputs": [
        {
          "output_type": "stream",
          "name": "stdout",
          "text": [
            "El accuracy es 0.9095744680851063\n"
          ]
        }
      ]
    },
    {
      "cell_type": "code",
      "metadata": {
        "id": "tasf3I9M6XyY"
      },
      "source": [
        "#Random Forest"
      ],
      "execution_count": null,
      "outputs": []
    },
    {
      "cell_type": "code",
      "metadata": {
        "colab": {
          "base_uri": "https://localhost:8080/"
        },
        "id": "p6j4p-Vc7rCb",
        "outputId": "3e5cfb56-3bfa-48cc-d489-1564cde6b021"
      },
      "source": [
        " clf_rf.fit(X_train_norm, y_train)"
      ],
      "execution_count": null,
      "outputs": [
        {
          "output_type": "execute_result",
          "data": {
            "text/plain": [
              "GridSearchCV(cv=3,\n",
              "             estimator=RandomForestClassifier(class_weight='balanced',\n",
              "                                              random_state=1),\n",
              "             param_grid={'max_depth': [5, 20, 50, 70],\n",
              "                         'max_features': [1, 5, 8],\n",
              "                         'min_samples_leaf': [1, 5, 8, 10],\n",
              "                         'n_estimators': [50, 100, 200]},\n",
              "             scoring='accuracy')"
            ]
          },
          "metadata": {},
          "execution_count": 108
        }
      ]
    },
    {
      "cell_type": "code",
      "metadata": {
        "id": "yJNneKsl7uIl"
      },
      "source": [
        "# Generamos predicciones con el modelo entrenado para las muestras de Test, utilizando solo X_test_norm\n",
        "ypred2 = clf_svm.predict(X_test_norm)"
      ],
      "execution_count": null,
      "outputs": []
    },
    {
      "cell_type": "code",
      "metadata": {
        "colab": {
          "base_uri": "https://localhost:8080/"
        },
        "id": "_UwjuSDq7wAD",
        "outputId": "accfad43-d702-4f8e-ae0f-4c55b724008f"
      },
      "source": [
        "# Computamos el accuracy, comparando y_test vs ypred\n",
        "test_acc2 = accuracy_score(y_test, ypred2)\n",
        "print(\"El accuracy es \" + str(test_acc2))"
      ],
      "execution_count": null,
      "outputs": [
        {
          "output_type": "stream",
          "name": "stdout",
          "text": [
            "El accuracy es 0.9095744680851063\n"
          ]
        }
      ]
    },
    {
      "cell_type": "code",
      "metadata": {
        "id": "UV_FLGRWCpDl",
        "colab": {
          "base_uri": "https://localhost:8080/",
          "height": 143
        },
        "outputId": "b961b8ff-3872-460e-9e4b-a9c847815caf"
      },
      "source": [
        "pd.DataFrame(data = [[\"KNN\",0.9095744680851063 ,0.93],\n",
        "                     [\"SVM\", 0.9095744680851063, 0.93],\n",
        "                     [\"Random Forest\",0.9095744680851063, 0.93]\n",
        "                     ],\n",
        "             columns = ['Modelo',\n",
        "                      'Accuracy', \n",
        "                      'Train'])"
      ],
      "execution_count": null,
      "outputs": [
        {
          "output_type": "execute_result",
          "data": {
            "text/html": [
              "<div>\n",
              "<style scoped>\n",
              "    .dataframe tbody tr th:only-of-type {\n",
              "        vertical-align: middle;\n",
              "    }\n",
              "\n",
              "    .dataframe tbody tr th {\n",
              "        vertical-align: top;\n",
              "    }\n",
              "\n",
              "    .dataframe thead th {\n",
              "        text-align: right;\n",
              "    }\n",
              "</style>\n",
              "<table border=\"1\" class=\"dataframe\">\n",
              "  <thead>\n",
              "    <tr style=\"text-align: right;\">\n",
              "      <th></th>\n",
              "      <th>Modelo</th>\n",
              "      <th>Accuracy</th>\n",
              "      <th>Train</th>\n",
              "    </tr>\n",
              "  </thead>\n",
              "  <tbody>\n",
              "    <tr>\n",
              "      <th>0</th>\n",
              "      <td>KNN</td>\n",
              "      <td>0.909574</td>\n",
              "      <td>0.93</td>\n",
              "    </tr>\n",
              "    <tr>\n",
              "      <th>1</th>\n",
              "      <td>SVM</td>\n",
              "      <td>0.909574</td>\n",
              "      <td>0.93</td>\n",
              "    </tr>\n",
              "    <tr>\n",
              "      <th>2</th>\n",
              "      <td>Random Forest</td>\n",
              "      <td>0.909574</td>\n",
              "      <td>0.93</td>\n",
              "    </tr>\n",
              "  </tbody>\n",
              "</table>\n",
              "</div>"
            ],
            "text/plain": [
              "          Modelo  Accuracy  Train\n",
              "0            KNN  0.909574   0.93\n",
              "1            SVM  0.909574   0.93\n",
              "2  Random Forest  0.909574   0.93"
            ]
          },
          "metadata": {},
          "execution_count": 133
        }
      ]
    }
  ]
}